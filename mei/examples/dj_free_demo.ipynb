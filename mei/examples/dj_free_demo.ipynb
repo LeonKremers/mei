{
 "cells": [
  {
   "cell_type": "code",
   "execution_count": 1,
   "id": "initial_id",
   "metadata": {
    "collapsed": true,
    "ExecuteTime": {
     "end_time": "2024-03-07T15:56:07.668936Z",
     "start_time": "2024-03-07T15:56:06.130978Z"
    }
   },
   "outputs": [
    {
     "name": "stderr",
     "output_type": "stream",
     "text": [
      "/Users/m_vys/Documents/mei/venv/lib/python3.9/site-packages/urllib3/__init__.py:35: NotOpenSSLWarning: urllib3 v2 only supports OpenSSL 1.1.1+, currently the 'ssl' module is compiled with 'LibreSSL 2.8.3'. See: https://github.com/urllib3/urllib3/issues/3020\n",
      "  warnings.warn(\n"
     ]
    }
   ],
   "source": [
    "import os\n",
    "import torch\n",
    "from mei.methods import gradient_ascent\n",
    "from mei.modules import ConstrainedOutputModel\n",
    "import urllib\n",
    "import datajoint as dj\n",
    "\n",
    "import matplotlib.pyplot as plt\n",
    "from nnfabrik.builder import get_model\n"
   ]
  },
  {
   "cell_type": "code",
   "outputs": [
    {
     "name": "stdout",
     "output_type": "stream",
     "text": [
      "Collecting git+https://github.com/sinzlab/nnvision.git@model_builder\r\n",
      "  Cloning https://github.com/sinzlab/nnvision.git (to revision model_builder) to /private/var/folders/b6/pdfw16rd28scv557pv29qm600000gq/T/pip-req-build-av8af7xt\r\n",
      "  Running command git clone --filter=blob:none --quiet https://github.com/sinzlab/nnvision.git /private/var/folders/b6/pdfw16rd28scv557pv29qm600000gq/T/pip-req-build-av8af7xt\r\n",
      "  Running command git checkout -b model_builder --track origin/model_builder\r\n",
      "  Switched to a new branch 'model_builder'\r\n",
      "  branch 'model_builder' set up to track 'origin/model_builder'.\r\n",
      "  Resolved https://github.com/sinzlab/nnvision.git to commit 8218786fa1ef313ead3068af74f09c803701a06b\r\n",
      "  Preparing metadata (setup.py) ... \u001B[?25ldone\r\n",
      "\u001B[?25hCollecting neuralpredictors@ git+https://github.com/KonstantinWilleke/neuralpredictors.git@transformer_readout (from nnvision==0.1)\r\n",
      "  Cloning https://github.com/KonstantinWilleke/neuralpredictors.git (to revision transformer_readout) to /private/var/folders/b6/pdfw16rd28scv557pv29qm600000gq/T/pip-install-3cuskvnx/neuralpredictors_ee617e30188a4822a262068deeaad479\r\n",
      "  Running command git clone --filter=blob:none --quiet https://github.com/KonstantinWilleke/neuralpredictors.git /private/var/folders/b6/pdfw16rd28scv557pv29qm600000gq/T/pip-install-3cuskvnx/neuralpredictors_ee617e30188a4822a262068deeaad479\r\n",
      "  Running command git checkout -b transformer_readout --track origin/transformer_readout\r\n",
      "  Switched to a new branch 'transformer_readout'\r\n",
      "  branch 'transformer_readout' set up to track 'origin/transformer_readout'.\r\n",
      "  Resolved https://github.com/KonstantinWilleke/neuralpredictors.git to commit 5243b69ac2ff34d9aac33aeefdce0b4697da21ff\r\n",
      "  Installing build dependencies ... \u001B[?25ldone\r\n",
      "\u001B[?25h  Getting requirements to build wheel ... \u001B[?25ldone\r\n",
      "\u001B[?25h  Installing backend dependencies ... \u001B[?25ldone\r\n",
      "\u001B[?25h  Preparing metadata (pyproject.toml) ... \u001B[?25ldone\r\n",
      "\u001B[?25hCollecting mei@ git+https://github.com/sinzlab/mei.git@inception_loop (from nnvision==0.1)\r\n",
      "  Cloning https://github.com/sinzlab/mei.git (to revision inception_loop) to /private/var/folders/b6/pdfw16rd28scv557pv29qm600000gq/T/pip-install-3cuskvnx/mei_8eca8f1d6bb64976ac8f9bd844c8b4f6\r\n",
      "  Running command git clone --filter=blob:none --quiet https://github.com/sinzlab/mei.git /private/var/folders/b6/pdfw16rd28scv557pv29qm600000gq/T/pip-install-3cuskvnx/mei_8eca8f1d6bb64976ac8f9bd844c8b4f6\r\n",
      "  Running command git checkout -b inception_loop --track origin/inception_loop\r\n",
      "  Switched to a new branch 'inception_loop'\r\n",
      "  branch 'inception_loop' set up to track 'origin/inception_loop'.\r\n",
      "  Resolved https://github.com/sinzlab/mei.git to commit a4545c92829461ac756eb4106850f859b8ffc8a6\r\n",
      "  Installing build dependencies ... \u001B[?25ldone\r\n",
      "\u001B[?25h  Getting requirements to build wheel ... \u001B[?25ldone\r\n",
      "\u001B[?25h  Installing backend dependencies ... \u001B[?25ldone\r\n",
      "\u001B[?25h  Preparing metadata (pyproject.toml) ... \u001B[?25ldone\r\n",
      "\u001B[?25hCollecting CORnet@ git+https://github.com/KonstantinWilleke/CORnet.git (from nnvision==0.1)\r\n",
      "  Cloning https://github.com/KonstantinWilleke/CORnet.git to /private/var/folders/b6/pdfw16rd28scv557pv29qm600000gq/T/pip-install-3cuskvnx/cornet_18326717be224110adc5b9ee9368c75d\r\n",
      "  Running command git clone --filter=blob:none --quiet https://github.com/KonstantinWilleke/CORnet.git /private/var/folders/b6/pdfw16rd28scv557pv29qm600000gq/T/pip-install-3cuskvnx/cornet_18326717be224110adc5b9ee9368c75d\r\n",
      "  Resolved https://github.com/KonstantinWilleke/CORnet.git to commit 1302e13a964e3fb58a8abbb09fdd1e76d7065333\r\n",
      "  Preparing metadata (setup.py) ... \u001B[?25ldone\r\n",
      "\u001B[?25hCollecting ptrnets@ git+https://github.com/sacadena/ptrnets.git@6f459a130ff2fb1a73f29d933e6bea5b435341e7 (from nnvision==0.1)\r\n",
      "  Using cached ptrnets-0.0.0-py3-none-any.whl\r\n",
      "Requirement already satisfied: setuptools>=50.3.2 in /Users/m_vys/Documents/mei/venv/lib/python3.9/site-packages (from nnvision==0.1) (68.2.0)\r\n",
      "Requirement already satisfied: einops in /Users/m_vys/Documents/mei/venv/lib/python3.9/site-packages (from nnvision==0.1) (0.7.0)\r\n",
      "Requirement already satisfied: scikit-image==0.19.1 in /Users/m_vys/Documents/mei/venv/lib/python3.9/site-packages (from nnvision==0.1) (0.19.1)\r\n",
      "Requirement already satisfied: numpy==1.22.0 in /Users/m_vys/Documents/mei/venv/lib/python3.9/site-packages (from nnvision==0.1) (1.22.0)\r\n",
      "Requirement already satisfied: datajoint>=0.12.7 in /Users/m_vys/Documents/mei/venv/lib/python3.9/site-packages (from nnvision==0.1) (0.14.1)\r\n",
      "Requirement already satisfied: GitPython>=3.1.30 in /Users/m_vys/Documents/mei/venv/lib/python3.9/site-packages (from nnvision==0.1) (3.1.42)\r\n",
      "Requirement already satisfied: matplotlib>=3.3.2 in /Users/m_vys/Documents/mei/venv/lib/python3.9/site-packages (from nnvision==0.1) (3.8.3)\r\n",
      "Requirement already satisfied: scipy>=1.5.4 in /Users/m_vys/Documents/mei/venv/lib/python3.9/site-packages (from nnvision==0.1) (1.11.4)\r\n",
      "Requirement already satisfied: torch>=1.7.0 in /Users/m_vys/Documents/mei/venv/lib/python3.9/site-packages (from nnvision==0.1) (2.2.1)\r\n",
      "Requirement already satisfied: torchvision>=0.8.1 in /Users/m_vys/Documents/mei/venv/lib/python3.9/site-packages (from nnvision==0.1) (0.17.1)\r\n",
      "Requirement already satisfied: transformers==4.35.2 in /Users/m_vys/Documents/mei/venv/lib/python3.9/site-packages (from nnvision==0.1) (4.35.2)\r\n",
      "Requirement already satisfied: tqdm>=4.51.0 in /Users/m_vys/Documents/mei/venv/lib/python3.9/site-packages (from nnvision==0.1) (4.66.2)\r\n",
      "Requirement already satisfied: nnfabrik in /Users/m_vys/Documents/mei/venv/lib/python3.9/site-packages (from nnvision==0.1) (0.2.1)\r\n",
      "Requirement already satisfied: networkx>=2.2 in /Users/m_vys/Documents/mei/venv/lib/python3.9/site-packages (from scikit-image==0.19.1->nnvision==0.1) (2.6.3)\r\n",
      "Requirement already satisfied: pillow!=7.1.0,!=7.1.1,!=8.3.0,>=6.1.0 in /Users/m_vys/Documents/mei/venv/lib/python3.9/site-packages (from scikit-image==0.19.1->nnvision==0.1) (10.2.0)\r\n",
      "Requirement already satisfied: imageio>=2.4.1 in /Users/m_vys/Documents/mei/venv/lib/python3.9/site-packages (from scikit-image==0.19.1->nnvision==0.1) (2.34.0)\r\n",
      "Requirement already satisfied: tifffile>=2019.7.26 in /Users/m_vys/Documents/mei/venv/lib/python3.9/site-packages (from scikit-image==0.19.1->nnvision==0.1) (2024.2.12)\r\n",
      "Requirement already satisfied: PyWavelets>=1.1.1 in /Users/m_vys/Documents/mei/venv/lib/python3.9/site-packages (from scikit-image==0.19.1->nnvision==0.1) (1.4.1)\r\n",
      "Requirement already satisfied: packaging>=20.0 in /Users/m_vys/Documents/mei/venv/lib/python3.9/site-packages (from scikit-image==0.19.1->nnvision==0.1) (23.2)\r\n",
      "Requirement already satisfied: filelock in /Users/m_vys/Documents/mei/venv/lib/python3.9/site-packages (from transformers==4.35.2->nnvision==0.1) (3.13.1)\r\n",
      "Requirement already satisfied: huggingface-hub<1.0,>=0.16.4 in /Users/m_vys/Documents/mei/venv/lib/python3.9/site-packages (from transformers==4.35.2->nnvision==0.1) (0.21.4)\r\n",
      "Requirement already satisfied: pyyaml>=5.1 in /Users/m_vys/Documents/mei/venv/lib/python3.9/site-packages (from transformers==4.35.2->nnvision==0.1) (6.0.1)\r\n",
      "Requirement already satisfied: regex!=2019.12.17 in /Users/m_vys/Documents/mei/venv/lib/python3.9/site-packages (from transformers==4.35.2->nnvision==0.1) (2023.12.25)\r\n",
      "Requirement already satisfied: requests in /Users/m_vys/Documents/mei/venv/lib/python3.9/site-packages (from transformers==4.35.2->nnvision==0.1) (2.31.0)\r\n",
      "Requirement already satisfied: tokenizers<0.19,>=0.14 in /Users/m_vys/Documents/mei/venv/lib/python3.9/site-packages (from transformers==4.35.2->nnvision==0.1) (0.15.2)\r\n",
      "Requirement already satisfied: safetensors>=0.3.1 in /Users/m_vys/Documents/mei/venv/lib/python3.9/site-packages (from transformers==4.35.2->nnvision==0.1) (0.4.2)\r\n",
      "Requirement already satisfied: pymysql>=0.7.2 in /Users/m_vys/Documents/mei/venv/lib/python3.9/site-packages (from datajoint>=0.12.7->nnvision==0.1) (1.1.0)\r\n",
      "Requirement already satisfied: pyparsing in /Users/m_vys/Documents/mei/venv/lib/python3.9/site-packages (from datajoint>=0.12.7->nnvision==0.1) (3.1.2)\r\n",
      "Requirement already satisfied: ipython in /Users/m_vys/Documents/mei/venv/lib/python3.9/site-packages (from datajoint>=0.12.7->nnvision==0.1) (8.18.1)\r\n",
      "Requirement already satisfied: pandas in /Users/m_vys/Documents/mei/venv/lib/python3.9/site-packages (from datajoint>=0.12.7->nnvision==0.1) (2.0.3)\r\n",
      "Requirement already satisfied: pydot in /Users/m_vys/Documents/mei/venv/lib/python3.9/site-packages (from datajoint>=0.12.7->nnvision==0.1) (2.0.0)\r\n",
      "Requirement already satisfied: minio>=7.0.0 in /Users/m_vys/Documents/mei/venv/lib/python3.9/site-packages (from datajoint>=0.12.7->nnvision==0.1) (7.2.5)\r\n",
      "Requirement already satisfied: cryptography in /Users/m_vys/Documents/mei/venv/lib/python3.9/site-packages (from datajoint>=0.12.7->nnvision==0.1) (42.0.5)\r\n",
      "Requirement already satisfied: otumat in /Users/m_vys/Documents/mei/venv/lib/python3.9/site-packages (from datajoint>=0.12.7->nnvision==0.1) (0.3.1)\r\n",
      "Requirement already satisfied: urllib3 in /Users/m_vys/Documents/mei/venv/lib/python3.9/site-packages (from datajoint>=0.12.7->nnvision==0.1) (2.2.1)\r\n",
      "Requirement already satisfied: gitdb<5,>=4.0.1 in /Users/m_vys/Documents/mei/venv/lib/python3.9/site-packages (from GitPython>=3.1.30->nnvision==0.1) (4.0.11)\r\n",
      "Requirement already satisfied: contourpy>=1.0.1 in /Users/m_vys/Documents/mei/venv/lib/python3.9/site-packages (from matplotlib>=3.3.2->nnvision==0.1) (1.2.0)\r\n",
      "Requirement already satisfied: cycler>=0.10 in /Users/m_vys/Documents/mei/venv/lib/python3.9/site-packages (from matplotlib>=3.3.2->nnvision==0.1) (0.12.1)\r\n",
      "Requirement already satisfied: fonttools>=4.22.0 in /Users/m_vys/Documents/mei/venv/lib/python3.9/site-packages (from matplotlib>=3.3.2->nnvision==0.1) (4.49.0)\r\n",
      "Requirement already satisfied: kiwisolver>=1.3.1 in /Users/m_vys/Documents/mei/venv/lib/python3.9/site-packages (from matplotlib>=3.3.2->nnvision==0.1) (1.4.5)\r\n",
      "Requirement already satisfied: python-dateutil>=2.7 in /Users/m_vys/Documents/mei/venv/lib/python3.9/site-packages (from matplotlib>=3.3.2->nnvision==0.1) (2.9.0.post0)\r\n",
      "Requirement already satisfied: importlib-resources>=3.2.0 in /Users/m_vys/Documents/mei/venv/lib/python3.9/site-packages (from matplotlib>=3.3.2->nnvision==0.1) (6.1.2)\r\n",
      "Requirement already satisfied: typing-extensions>=4.8.0 in /Users/m_vys/Documents/mei/venv/lib/python3.9/site-packages (from torch>=1.7.0->nnvision==0.1) (4.10.0)\r\n",
      "Requirement already satisfied: sympy in /Users/m_vys/Documents/mei/venv/lib/python3.9/site-packages (from torch>=1.7.0->nnvision==0.1) (1.12)\r\n",
      "Requirement already satisfied: jinja2 in /Users/m_vys/Documents/mei/venv/lib/python3.9/site-packages (from torch>=1.7.0->nnvision==0.1) (3.1.3)\r\n",
      "Requirement already satisfied: fsspec in /Users/m_vys/Documents/mei/venv/lib/python3.9/site-packages (from torch>=1.7.0->nnvision==0.1) (2024.2.0)\r\n",
      "Requirement already satisfied: fire in /Users/m_vys/Documents/mei/venv/lib/python3.9/site-packages (from CORnet@ git+https://github.com/KonstantinWilleke/CORnet.git->nnvision==0.1) (0.5.0)\r\n",
      "Requirement already satisfied: pytest in /Users/m_vys/Documents/mei/venv/lib/python3.9/site-packages (from mei@ git+https://github.com/sinzlab/mei.git@inception_loop->nnvision==0.1) (8.0.2)\r\n",
      "Requirement already satisfied: h5py in /Users/m_vys/Documents/mei/venv/lib/python3.9/site-packages (from neuralpredictors@ git+https://github.com/KonstantinWilleke/neuralpredictors.git@transformer_readout->nnvision==0.1) (3.10.0)\r\n",
      "Requirement already satisfied: sphinx in /Users/m_vys/Documents/mei/venv/lib/python3.9/site-packages (from nnfabrik->nnvision==0.1) (7.2.6)\r\n",
      "Requirement already satisfied: pytorch-sphinx-theme in /Users/m_vys/Documents/mei/venv/lib/python3.9/site-packages (from nnfabrik->nnvision==0.1) (0.0.19)\r\n",
      "Requirement already satisfied: recommonmark in /Users/m_vys/Documents/mei/venv/lib/python3.9/site-packages (from nnfabrik->nnvision==0.1) (0.7.1)\r\n",
      "Requirement already satisfied: gdown in /Users/m_vys/Documents/mei/venv/lib/python3.9/site-packages (from ptrnets@ git+https://github.com/sacadena/ptrnets.git@6f459a130ff2fb1a73f29d933e6bea5b435341e7->nnvision==0.1) (5.1.0)\r\n",
      "Requirement already satisfied: visualpriors in /Users/m_vys/Documents/mei/venv/lib/python3.9/site-packages (from ptrnets@ git+https://github.com/sacadena/ptrnets.git@6f459a130ff2fb1a73f29d933e6bea5b435341e7->nnvision==0.1) (0.3.5)\r\n",
      "Requirement already satisfied: smmap<6,>=3.0.1 in /Users/m_vys/Documents/mei/venv/lib/python3.9/site-packages (from gitdb<5,>=4.0.1->GitPython>=3.1.30->nnvision==0.1) (5.0.1)\r\n",
      "Requirement already satisfied: zipp>=3.1.0 in /Users/m_vys/Documents/mei/venv/lib/python3.9/site-packages (from importlib-resources>=3.2.0->matplotlib>=3.3.2->nnvision==0.1) (3.17.0)\r\n",
      "Requirement already satisfied: certifi in /Users/m_vys/Documents/mei/venv/lib/python3.9/site-packages (from minio>=7.0.0->datajoint>=0.12.7->nnvision==0.1) (2024.2.2)\r\n",
      "Requirement already satisfied: argon2-cffi in /Users/m_vys/Documents/mei/venv/lib/python3.9/site-packages (from minio>=7.0.0->datajoint>=0.12.7->nnvision==0.1) (23.1.0)\r\n",
      "Requirement already satisfied: pycryptodome in /Users/m_vys/Documents/mei/venv/lib/python3.9/site-packages (from minio>=7.0.0->datajoint>=0.12.7->nnvision==0.1) (3.20.0)\r\n",
      "Requirement already satisfied: six>=1.5 in /Users/m_vys/Documents/mei/venv/lib/python3.9/site-packages (from python-dateutil>=2.7->matplotlib>=3.3.2->nnvision==0.1) (1.16.0)\r\n",
      "Requirement already satisfied: cffi>=1.12 in /Users/m_vys/Documents/mei/venv/lib/python3.9/site-packages (from cryptography->datajoint>=0.12.7->nnvision==0.1) (1.16.0)\r\n",
      "Requirement already satisfied: termcolor in /Users/m_vys/Documents/mei/venv/lib/python3.9/site-packages (from fire->CORnet@ git+https://github.com/KonstantinWilleke/CORnet.git->nnvision==0.1) (2.4.0)\r\n",
      "Requirement already satisfied: beautifulsoup4 in /Users/m_vys/Documents/mei/venv/lib/python3.9/site-packages (from gdown->ptrnets@ git+https://github.com/sacadena/ptrnets.git@6f459a130ff2fb1a73f29d933e6bea5b435341e7->nnvision==0.1) (4.12.3)\r\n",
      "Requirement already satisfied: decorator in /Users/m_vys/Documents/mei/venv/lib/python3.9/site-packages (from ipython->datajoint>=0.12.7->nnvision==0.1) (5.1.1)\r\n",
      "Requirement already satisfied: jedi>=0.16 in /Users/m_vys/Documents/mei/venv/lib/python3.9/site-packages (from ipython->datajoint>=0.12.7->nnvision==0.1) (0.19.1)\r\n",
      "Requirement already satisfied: matplotlib-inline in /Users/m_vys/Documents/mei/venv/lib/python3.9/site-packages (from ipython->datajoint>=0.12.7->nnvision==0.1) (0.1.6)\r\n",
      "Requirement already satisfied: prompt-toolkit<3.1.0,>=3.0.41 in /Users/m_vys/Documents/mei/venv/lib/python3.9/site-packages (from ipython->datajoint>=0.12.7->nnvision==0.1) (3.0.43)\r\n",
      "Requirement already satisfied: pygments>=2.4.0 in /Users/m_vys/Documents/mei/venv/lib/python3.9/site-packages (from ipython->datajoint>=0.12.7->nnvision==0.1) (2.17.2)\r\n",
      "Requirement already satisfied: stack-data in /Users/m_vys/Documents/mei/venv/lib/python3.9/site-packages (from ipython->datajoint>=0.12.7->nnvision==0.1) (0.6.3)\r\n",
      "Requirement already satisfied: traitlets>=5 in /Users/m_vys/Documents/mei/venv/lib/python3.9/site-packages (from ipython->datajoint>=0.12.7->nnvision==0.1) (5.14.1)\r\n",
      "Requirement already satisfied: exceptiongroup in /Users/m_vys/Documents/mei/venv/lib/python3.9/site-packages (from ipython->datajoint>=0.12.7->nnvision==0.1) (1.2.0)\r\n",
      "Requirement already satisfied: pexpect>4.3 in /Users/m_vys/Documents/mei/venv/lib/python3.9/site-packages (from ipython->datajoint>=0.12.7->nnvision==0.1) (4.9.0)\r\n",
      "Requirement already satisfied: MarkupSafe>=2.0 in /Users/m_vys/Documents/mei/venv/lib/python3.9/site-packages (from jinja2->torch>=1.7.0->nnvision==0.1) (2.1.5)\r\n",
      "Requirement already satisfied: flask in /Users/m_vys/Documents/mei/venv/lib/python3.9/site-packages (from otumat->datajoint>=0.12.7->nnvision==0.1) (3.0.2)\r\n",
      "Requirement already satisfied: appdirs in /Users/m_vys/Documents/mei/venv/lib/python3.9/site-packages (from otumat->datajoint>=0.12.7->nnvision==0.1) (1.4.4)\r\n",
      "Requirement already satisfied: watchdog in /Users/m_vys/Documents/mei/venv/lib/python3.9/site-packages (from otumat->datajoint>=0.12.7->nnvision==0.1) (4.0.0)\r\n",
      "Requirement already satisfied: pytz>=2020.1 in /Users/m_vys/Documents/mei/venv/lib/python3.9/site-packages (from pandas->datajoint>=0.12.7->nnvision==0.1) (2024.1)\r\n",
      "Requirement already satisfied: tzdata>=2022.1 in /Users/m_vys/Documents/mei/venv/lib/python3.9/site-packages (from pandas->datajoint>=0.12.7->nnvision==0.1) (2024.1)\r\n",
      "Requirement already satisfied: iniconfig in /Users/m_vys/Documents/mei/venv/lib/python3.9/site-packages (from pytest->mei@ git+https://github.com/sinzlab/mei.git@inception_loop->nnvision==0.1) (2.0.0)\r\n",
      "Requirement already satisfied: pluggy<2.0,>=1.3.0 in /Users/m_vys/Documents/mei/venv/lib/python3.9/site-packages (from pytest->mei@ git+https://github.com/sinzlab/mei.git@inception_loop->nnvision==0.1) (1.4.0)\r\n",
      "Requirement already satisfied: tomli>=1.0.0 in /Users/m_vys/Documents/mei/venv/lib/python3.9/site-packages (from pytest->mei@ git+https://github.com/sinzlab/mei.git@inception_loop->nnvision==0.1) (2.0.1)\r\n",
      "Requirement already satisfied: commonmark>=0.8.1 in /Users/m_vys/Documents/mei/venv/lib/python3.9/site-packages (from recommonmark->nnfabrik->nnvision==0.1) (0.9.1)\r\n",
      "Requirement already satisfied: docutils>=0.11 in /Users/m_vys/Documents/mei/venv/lib/python3.9/site-packages (from recommonmark->nnfabrik->nnvision==0.1) (0.20.1)\r\n",
      "Requirement already satisfied: sphinxcontrib-applehelp in /Users/m_vys/Documents/mei/venv/lib/python3.9/site-packages (from sphinx->nnfabrik->nnvision==0.1) (1.0.8)\r\n",
      "Requirement already satisfied: sphinxcontrib-devhelp in /Users/m_vys/Documents/mei/venv/lib/python3.9/site-packages (from sphinx->nnfabrik->nnvision==0.1) (1.0.6)\r\n",
      "Requirement already satisfied: sphinxcontrib-jsmath in /Users/m_vys/Documents/mei/venv/lib/python3.9/site-packages (from sphinx->nnfabrik->nnvision==0.1) (1.0.1)\r\n",
      "Requirement already satisfied: sphinxcontrib-htmlhelp>=2.0.0 in /Users/m_vys/Documents/mei/venv/lib/python3.9/site-packages (from sphinx->nnfabrik->nnvision==0.1) (2.0.5)\r\n",
      "Requirement already satisfied: sphinxcontrib-serializinghtml>=1.1.9 in /Users/m_vys/Documents/mei/venv/lib/python3.9/site-packages (from sphinx->nnfabrik->nnvision==0.1) (1.1.10)\r\n",
      "Requirement already satisfied: sphinxcontrib-qthelp in /Users/m_vys/Documents/mei/venv/lib/python3.9/site-packages (from sphinx->nnfabrik->nnvision==0.1) (1.0.7)\r\n",
      "Requirement already satisfied: snowballstemmer>=2.0 in /Users/m_vys/Documents/mei/venv/lib/python3.9/site-packages (from sphinx->nnfabrik->nnvision==0.1) (2.2.0)\r\n",
      "Requirement already satisfied: babel>=2.9 in /Users/m_vys/Documents/mei/venv/lib/python3.9/site-packages (from sphinx->nnfabrik->nnvision==0.1) (2.14.0)\r\n",
      "Requirement already satisfied: alabaster<0.8,>=0.7 in /Users/m_vys/Documents/mei/venv/lib/python3.9/site-packages (from sphinx->nnfabrik->nnvision==0.1) (0.7.16)\r\n",
      "Requirement already satisfied: imagesize>=1.3 in /Users/m_vys/Documents/mei/venv/lib/python3.9/site-packages (from sphinx->nnfabrik->nnvision==0.1) (1.4.1)\r\n",
      "Requirement already satisfied: importlib-metadata>=4.8 in /Users/m_vys/Documents/mei/venv/lib/python3.9/site-packages (from sphinx->nnfabrik->nnvision==0.1) (7.0.1)\r\n",
      "Requirement already satisfied: charset-normalizer<4,>=2 in /Users/m_vys/Documents/mei/venv/lib/python3.9/site-packages (from requests->transformers==4.35.2->nnvision==0.1) (3.3.2)\r\n",
      "Requirement already satisfied: idna<4,>=2.5 in /Users/m_vys/Documents/mei/venv/lib/python3.9/site-packages (from requests->transformers==4.35.2->nnvision==0.1) (3.6)\r\n",
      "Requirement already satisfied: mpmath>=0.19 in /Users/m_vys/Documents/mei/venv/lib/python3.9/site-packages (from sympy->torch>=1.7.0->nnvision==0.1) (1.3.0)\r\n",
      "Requirement already satisfied: pycparser in /Users/m_vys/Documents/mei/venv/lib/python3.9/site-packages (from cffi>=1.12->cryptography->datajoint>=0.12.7->nnvision==0.1) (2.21)\r\n",
      "Requirement already satisfied: parso<0.9.0,>=0.8.3 in /Users/m_vys/Documents/mei/venv/lib/python3.9/site-packages (from jedi>=0.16->ipython->datajoint>=0.12.7->nnvision==0.1) (0.8.3)\r\n",
      "Requirement already satisfied: ptyprocess>=0.5 in /Users/m_vys/Documents/mei/venv/lib/python3.9/site-packages (from pexpect>4.3->ipython->datajoint>=0.12.7->nnvision==0.1) (0.7.0)\r\n",
      "Requirement already satisfied: wcwidth in /Users/m_vys/Documents/mei/venv/lib/python3.9/site-packages (from prompt-toolkit<3.1.0,>=3.0.41->ipython->datajoint>=0.12.7->nnvision==0.1) (0.2.13)\r\n",
      "Requirement already satisfied: argon2-cffi-bindings in /Users/m_vys/Documents/mei/venv/lib/python3.9/site-packages (from argon2-cffi->minio>=7.0.0->datajoint>=0.12.7->nnvision==0.1) (21.2.0)\r\n",
      "Requirement already satisfied: soupsieve>1.2 in /Users/m_vys/Documents/mei/venv/lib/python3.9/site-packages (from beautifulsoup4->gdown->ptrnets@ git+https://github.com/sacadena/ptrnets.git@6f459a130ff2fb1a73f29d933e6bea5b435341e7->nnvision==0.1) (2.5)\r\n",
      "Requirement already satisfied: Werkzeug>=3.0.0 in /Users/m_vys/Documents/mei/venv/lib/python3.9/site-packages (from flask->otumat->datajoint>=0.12.7->nnvision==0.1) (3.0.1)\r\n",
      "Requirement already satisfied: itsdangerous>=2.1.2 in /Users/m_vys/Documents/mei/venv/lib/python3.9/site-packages (from flask->otumat->datajoint>=0.12.7->nnvision==0.1) (2.1.2)\r\n",
      "Requirement already satisfied: click>=8.1.3 in /Users/m_vys/Documents/mei/venv/lib/python3.9/site-packages (from flask->otumat->datajoint>=0.12.7->nnvision==0.1) (8.1.7)\r\n",
      "Requirement already satisfied: blinker>=1.6.2 in /Users/m_vys/Documents/mei/venv/lib/python3.9/site-packages (from flask->otumat->datajoint>=0.12.7->nnvision==0.1) (1.7.0)\r\n",
      "Requirement already satisfied: PySocks!=1.5.7,>=1.5.6 in /Users/m_vys/Documents/mei/venv/lib/python3.9/site-packages (from requests[socks]->gdown->ptrnets@ git+https://github.com/sacadena/ptrnets.git@6f459a130ff2fb1a73f29d933e6bea5b435341e7->nnvision==0.1) (1.7.1)\r\n",
      "Requirement already satisfied: executing>=1.2.0 in /Users/m_vys/Documents/mei/venv/lib/python3.9/site-packages (from stack-data->ipython->datajoint>=0.12.7->nnvision==0.1) (2.0.1)\r\n",
      "Requirement already satisfied: asttokens>=2.1.0 in /Users/m_vys/Documents/mei/venv/lib/python3.9/site-packages (from stack-data->ipython->datajoint>=0.12.7->nnvision==0.1) (2.4.1)\r\n",
      "Requirement already satisfied: pure-eval in /Users/m_vys/Documents/mei/venv/lib/python3.9/site-packages (from stack-data->ipython->datajoint>=0.12.7->nnvision==0.1) (0.2.2)\r\n"
     ]
    }
   ],
   "source": [
    "# only need to run once at the beginning\n",
    "!pip3 install git+https://github.com/sinzlab/nnvision.git@model_builder"
   ],
   "metadata": {
    "collapsed": false,
    "ExecuteTime": {
     "end_time": "2024-03-07T15:56:26.568138Z",
     "start_time": "2024-03-07T15:56:07.669557Z"
    }
   },
   "id": "f9a27ee731430b63",
   "execution_count": 2
  },
  {
   "cell_type": "markdown",
   "source": [],
   "metadata": {
    "collapsed": false
   },
   "id": "3a929f600e3cb113"
  },
  {
   "cell_type": "markdown",
   "source": [
    "### Download model file\n",
    "We download an example model trained on mouse V1 neurons as a baseline for the [Sensorium 2022 competition](https://github.com/sinzlab/sensorium)"
   ],
   "metadata": {
    "collapsed": false
   },
   "id": "b6fe653f499b93fb"
  },
  {
   "cell_type": "code",
   "outputs": [
    {
     "data": {
      "text/plain": "('./pretrained_models/task_driven_ensemble_model_01.pth.tar',\n <http.client.HTTPMessage at 0x2ad84c190>)"
     },
     "execution_count": 18,
     "metadata": {},
     "output_type": "execute_result"
    }
   ],
   "source": [
    "url = 'https://github.com/sinzlab/nnvision/raw/model_builder/nnvision/data/model_weights/v4_task_driven/task_driven_ensemble_model_01.pth.tar'\n",
    "filepath = './pretrained_models/task_driven_ensemble_model_01.pth.tar'\n",
    "urllib.request.urlretrieve(url, filepath)\n"
   ],
   "metadata": {
    "collapsed": false,
    "ExecuteTime": {
     "end_time": "2024-03-07T16:02:38.412096Z",
     "start_time": "2024-03-07T16:02:36.662940Z"
    }
   },
   "id": "cb0a6d5a0f7e8da2",
   "execution_count": 18
  },
  {
   "cell_type": "code",
   "outputs": [],
   "source": [
    "# some hackity hack to be ignored\n",
    "dj.config[\"database.host\"] = \"{host_address}\"\n",
    "dj.config[\"database.user\"] = \"{user}\"\n",
    "dj.config[\"database.password\"] = \"{password}\""
   ],
   "metadata": {
    "collapsed": false,
    "ExecuteTime": {
     "end_time": "2024-03-07T15:56:27.043107Z",
     "start_time": "2024-03-07T15:56:27.041323Z"
    }
   },
   "id": "839f01dead2e028e",
   "execution_count": 4
  },
  {
   "cell_type": "code",
   "outputs": [],
   "source": [
    "# method loading example model\n",
    "def get_v4_model():\n",
    "    model_fn = 'nnvision.models.ptrmodels.task_core_gauss_readout'\n",
    "    model_config =  {'input_channels': 1,\n",
    "      'model_name': 'resnet50_l2_eps0_1',\n",
    "      'layer_name': 'layer3.0',\n",
    "      'pretrained': False,\n",
    "      'bias': False,\n",
    "      'final_batchnorm': True,\n",
    "      'final_nonlinearity': True,\n",
    "      'momentum': 0.1,\n",
    "      'fine_tune': False,\n",
    "      'init_mu_range': 0.4,\n",
    "      'init_sigma_range': 0.6,\n",
    "      'readout_bias': True,\n",
    "      'gamma_readout': 3.0,\n",
    "      'gauss_type': 'isotropic',\n",
    "      'elu_offset': -1,\n",
    "                     }\n",
    "    \n",
    "    data_info = {\n",
    "        \"all_sessions\": {\n",
    "            \"input_dimensions\": torch.Size([64, 1, 100, 100]),\n",
    "            \"input_channels\": 1,\n",
    "            \"output_dimension\": 1244,\n",
    "            \"img_mean\": 124.54466,\n",
    "            \"img_std\": 70.28,\n",
    "        },\n",
    "    }\n",
    "    \n",
    "    filename = os.path.join('./pretrained_models/task_driven_ensemble_model_01.pth.tar')\n",
    "    state_dict = torch.load(filename, map_location='cpu')\n",
    "    \n",
    "    v4_data_task_sota = get_model(\n",
    "        model_fn, model_config, seed=10, data_info=data_info, state_dict=state_dict,\n",
    "    )\n",
    "    \n",
    "    return v4_data_task_sota, data_info\n",
    "\n"
   ],
   "metadata": {
    "collapsed": false,
    "ExecuteTime": {
     "end_time": "2024-03-07T16:03:42.532931Z",
     "start_time": "2024-03-07T16:03:42.525407Z"
    }
   },
   "id": "6d6bb40169d29930",
   "execution_count": 21
  },
  {
   "cell_type": "markdown",
   "source": [
    "# Load the model\n"
   ],
   "metadata": {
    "collapsed": false
   },
   "id": "8ad6c4f0009366eb"
  },
  {
   "cell_type": "code",
   "outputs": [
    {
     "name": "stderr",
     "output_type": "stream",
     "text": [
      "/Users/m_vys/Documents/mei/venv/lib/python3.9/site-packages/torchvision/models/_utils.py:208: UserWarning: The parameter 'pretrained' is deprecated since 0.13 and may be removed in the future, please use 'weights' instead.\n",
      "  warnings.warn(\n",
      "/Users/m_vys/Documents/mei/venv/lib/python3.9/site-packages/torchvision/models/_utils.py:223: UserWarning: Arguments other than a weight enum or `None` for 'weights' are deprecated since 0.13 and may be removed in the future. The current behavior is equivalent to passing `weights=None`.\n",
      "  warnings.warn(msg)\n"
     ]
    }
   ],
   "source": [
    "model, data_info = get_v4_model()\n"
   ],
   "metadata": {
    "collapsed": false,
    "ExecuteTime": {
     "end_time": "2024-03-07T16:03:44.293525Z",
     "start_time": "2024-03-07T16:03:43.879304Z"
    }
   },
   "id": "3ad59882797cc0a8",
   "execution_count": 22
  },
  {
   "cell_type": "markdown",
   "source": [
    "# Create single cell model\n",
    "Here you select the index of the cell for which you'd like to optimize the MEI"
   ],
   "metadata": {
    "collapsed": false
   },
   "id": "c788d169aea0d573"
  },
  {
   "cell_type": "code",
   "outputs": [],
   "source": [
    "cell_index = 403"
   ],
   "metadata": {
    "collapsed": false,
    "ExecuteTime": {
     "end_time": "2024-03-07T16:04:12.277919Z",
     "start_time": "2024-03-07T16:04:12.271129Z"
    }
   },
   "id": "373b3ddfb37d0ae8",
   "execution_count": 24
  },
  {
   "cell_type": "code",
   "outputs": [],
   "source": [
    "single_cell_model = ConstrainedOutputModel(model, cell_index)"
   ],
   "metadata": {
    "collapsed": false,
    "ExecuteTime": {
     "end_time": "2024-03-07T16:04:12.953138Z",
     "start_time": "2024-03-07T16:04:12.947998Z"
    }
   },
   "id": "c122423a56c0ff4b",
   "execution_count": 25
  },
  {
   "cell_type": "markdown",
   "source": [
    "# Configurations\n",
    "Configurations for the MEI optimization algorithm"
   ],
   "metadata": {
    "collapsed": false
   },
   "id": "1efd3e0f9df5180"
  },
  {
   "cell_type": "code",
   "outputs": [],
   "source": [
    "seed = 8\n",
    "# learning rate\n",
    "lr = 1\n",
    "\n",
    "# number of iterations for which the MEI is optimized\n",
    "num_iterations = 1000 \n",
    "\n",
    " # interval with which the objective will be evaluated\n",
    "interval = 10\n",
    "\n",
    "# shape of the MEI\n",
    "input_shape = (1,) + data_info[\"all_sessions\"]['input_dimensions'][1:] \n",
    "device='cpu'"
   ],
   "metadata": {
    "collapsed": false,
    "ExecuteTime": {
     "end_time": "2024-03-07T16:04:19.415414Z",
     "start_time": "2024-03-07T16:04:19.409919Z"
    }
   },
   "id": "99bd11cab7d2a9bf",
   "execution_count": 26
  },
  {
   "cell_type": "code",
   "outputs": [],
   "source": [
    "method_config = dict(\n",
    "    initial=dict(path=\"mei.initial.RandomNormal\"),\n",
    "    optimizer=dict(path=\"torch.optim.SGD\", kwargs=dict(lr=lr)),\n",
    "    stopper=dict(path=\"mei.stoppers.NumIterations\", kwargs=dict(num_iterations=num_iterations)),\n",
    "    objectives=[dict(path=\"mei.objectives.EvaluationObjective\", kwargs=dict(interval=interval))],\n",
    "    device=device,\n",
    ")"
   ],
   "metadata": {
    "collapsed": false,
    "ExecuteTime": {
     "end_time": "2024-03-07T16:04:19.765675Z",
     "start_time": "2024-03-07T16:04:19.761910Z"
    }
   },
   "id": "a44d83e2fbe5dbcd",
   "execution_count": 27
  },
  {
   "cell_type": "markdown",
   "source": [
    "# Optimize MEI"
   ],
   "metadata": {
    "collapsed": false
   },
   "id": "bf698daaa94cd4be"
  },
  {
   "cell_type": "code",
   "outputs": [
    {
     "name": "stdout",
     "output_type": "stream",
     "text": [
      "initial {'path': 'mei.initial.RandomNormal'}\n",
      "optimizer {'path': 'torch.optim.SGD', 'kwargs': {'lr': 1}}\n",
      "stopper {'path': 'mei.stoppers.NumIterations', 'kwargs': {'num_iterations': 1000}}\n",
      "objectives [{'path': 'mei.objectives.EvaluationObjective', 'kwargs': {'interval': 10}}]\n",
      "device cpu\n"
     ]
    }
   ],
   "source": [
    "mei, final_evaluation, tracker_log = gradient_ascent(model=single_cell_model, config=method_config, seed=seed, shape=input_shape)   "
   ],
   "metadata": {
    "collapsed": false,
    "ExecuteTime": {
     "end_time": "2024-03-07T16:05:23.041844Z",
     "start_time": "2024-03-07T16:04:52.570212Z"
    }
   },
   "id": "1fee3d12d9400fb7",
   "execution_count": 30
  },
  {
   "cell_type": "markdown",
   "source": [
    "# Visualize MEI"
   ],
   "metadata": {
    "collapsed": false
   },
   "id": "c381e644273682fe"
  },
  {
   "cell_type": "code",
   "outputs": [
    {
     "name": "stdout",
     "output_type": "stream",
     "text": [
      "torch.Size([1, 1, 100, 100])\n",
      "tensor(38.1945)\n"
     ]
    },
    {
     "data": {
      "text/plain": "<matplotlib.image.AxesImage at 0x2ae2770a0>"
     },
     "execution_count": 31,
     "metadata": {},
     "output_type": "execute_result"
    },
    {
     "data": {
      "text/plain": "<Figure size 640x480 with 1 Axes>",
      "image/png": "[encoded data removed]"
     },
     "metadata": {},
     "output_type": "display_data"
    }
   ],
   "source": [
    "print(mei.shape)\n",
    "print(torch.max(torch.abs(mei)))\n",
    "plt.imshow(mei[0,0], cmap='gray')"
   ],
   "metadata": {
    "collapsed": false,
    "ExecuteTime": {
     "end_time": "2024-03-07T16:05:23.122178Z",
     "start_time": "2024-03-07T16:05:23.043003Z"
    }
   },
   "id": "cd9ad93678e77d68",
   "execution_count": 31
  },
  {
   "cell_type": "code",
   "outputs": [
    {
     "data": {
      "text/plain": "Text(0, 0.5, 'evaluation')"
     },
     "execution_count": 32,
     "metadata": {},
     "output_type": "execute_result"
    },
    {
     "data": {
      "text/plain": "<Figure size 640x480 with 1 Axes>",
      "image/png": "[encoded data removed]"
     },
     "metadata": {},
     "output_type": "display_data"
    }
   ],
   "source": [
    "plt.plot(\n",
    "    tracker_log[\"mei.objectives.EvaluationObjective\"][\"times\"],\n",
    "    tracker_log[\"mei.objectives.EvaluationObjective\"][\"values\"],\n",
    ")\n",
    "plt.gca().set_xlabel(\"# iteration\")\n",
    "plt.gca().set_ylabel(\"evaluation\")"
   ],
   "metadata": {
    "collapsed": false,
    "ExecuteTime": {
     "end_time": "2024-03-07T16:05:23.204491Z",
     "start_time": "2024-03-07T16:05:23.130293Z"
    }
   },
   "id": "c75ff7e7f87ecd0d",
   "execution_count": 32
  },
  {
   "cell_type": "markdown",
   "source": [
    "# Constraints \n",
    "So far, we have not introduced contraints into MEI optimization. \n",
    "This results in implausible MEIs with high pixel values and high contrast and a forever increasing activation. We need to constrain the overall norm of the MEI and also clip the range of pixel values to the range of pixel values which were in the training data. \n",
    "The norm is then established empirically such, that ideally, value clipping is not necessary."
   ],
   "metadata": {
    "collapsed": false
   },
   "id": "35bfb1984459a87"
  },
  {
   "cell_type": "code",
   "outputs": [],
   "source": [
    "p = 2\n",
    "norm_value = 10\n",
    "max_pixel_value = 2.2606\n",
    "min_pixel_value = -1.75047\n",
    "\n",
    "method_config = dict(\n",
    "    initial=dict(path=\"mei.initial.RandomNormal\"),\n",
    "    optimizer=dict(path=\"torch.optim.SGD\", kwargs=dict(lr=lr)),\n",
    "    stopper=dict(path=\"mei.stoppers.NumIterations\", kwargs=dict(num_iterations=num_iterations)),\n",
    "    objectives=[dict(path=\"mei.objectives.EvaluationObjective\", kwargs=dict(interval=interval))],\n",
    "    postprocessing=dict(path=\"mei.postprocessing.PNormConstraintAndClip\", kwargs=dict(p=p, norm_value=norm_value, max_pixel_value=max_pixel_value, min_pixel_value=min_pixel_value)),\n",
    "    device=device,\n",
    ")"
   ],
   "metadata": {
    "collapsed": false,
    "ExecuteTime": {
     "end_time": "2024-03-07T16:05:42.671870Z",
     "start_time": "2024-03-07T16:05:42.665066Z"
    }
   },
   "id": "b5f6177b20a27a2f",
   "execution_count": 33
  },
  {
   "cell_type": "code",
   "outputs": [
    {
     "name": "stdout",
     "output_type": "stream",
     "text": [
      "initial {'path': 'mei.initial.RandomNormal'}\n",
      "optimizer {'path': 'torch.optim.SGD', 'kwargs': {'lr': 1}}\n",
      "stopper {'path': 'mei.stoppers.NumIterations', 'kwargs': {'num_iterations': 1000}}\n",
      "objectives [{'path': 'mei.objectives.EvaluationObjective', 'kwargs': {'interval': 10}}]\n",
      "postprocessing {'path': 'mei.postprocessing.PNormConstraintAndClip', 'kwargs': {'p': 2, 'norm_value': 10, 'max_pixel_value': 2.2606, 'min_pixel_value': -1.75047}}\n",
      "device cpu\n"
     ]
    }
   ],
   "source": [
    "mei, final_evaluation, tracker_log = gradient_ascent(model=single_cell_model, config=method_config, seed=seed,\n",
    "                                                     shape=input_shape)   "
   ],
   "metadata": {
    "collapsed": false,
    "ExecuteTime": {
     "end_time": "2024-03-07T16:06:13.763653Z",
     "start_time": "2024-03-07T16:05:43.252737Z"
    }
   },
   "id": "672fc86fa133b0bd",
   "execution_count": 34
  },
  {
   "cell_type": "code",
   "outputs": [
    {
     "name": "stdout",
     "output_type": "stream",
     "text": [
      "torch.Size([1, 1, 100, 100])\n",
      "tensor(2.0166)\n"
     ]
    },
    {
     "data": {
      "text/plain": "<Figure size 640x480 with 2 Axes>",
      "image/png": "[encoded data removed]"
     },
     "metadata": {},
     "output_type": "display_data"
    }
   ],
   "source": [
    "print(mei.shape)\n",
    "max_value = torch.max(torch.abs(mei))\n",
    "print(max_value)\n",
    "plt.imshow(mei[0,0], cmap='gray', vmin=min_pixel_value, vmax=max_pixel_value)\n",
    "plt.colorbar()\n",
    "plt.show()\n"
   ],
   "metadata": {
    "collapsed": false,
    "ExecuteTime": {
     "end_time": "2024-03-07T16:06:13.847668Z",
     "start_time": "2024-03-07T16:06:13.763989Z"
    }
   },
   "id": "28778da38e6c03ad",
   "execution_count": 35
  },
  {
   "cell_type": "code",
   "outputs": [
    {
     "data": {
      "text/plain": "Text(0, 0.5, 'evaluation')"
     },
     "execution_count": 36,
     "metadata": {},
     "output_type": "execute_result"
    },
    {
     "data": {
      "text/plain": "<Figure size 640x480 with 1 Axes>",
      "image/png": "[encoded data removed]"
     },
     "metadata": {},
     "output_type": "display_data"
    }
   ],
   "source": [
    "plt.plot(\n",
    "    tracker_log[\"mei.objectives.EvaluationObjective\"][\"times\"],\n",
    "    tracker_log[\"mei.objectives.EvaluationObjective\"][\"values\"],\n",
    ")\n",
    "plt.gca().set_xlabel(\"# iteration\")\n",
    "plt.gca().set_ylabel(\"evaluation\")"
   ],
   "metadata": {
    "collapsed": false,
    "ExecuteTime": {
     "end_time": "2024-03-07T16:06:13.918082Z",
     "start_time": "2024-03-07T16:06:13.852678Z"
    }
   },
   "id": "52008e68bb87ea9c",
   "execution_count": 36
  },
  {
   "cell_type": "code",
   "outputs": [],
   "source": [],
   "metadata": {
    "collapsed": false
   },
   "id": "ab276482f875c42c"
  }
 ],
 "metadata": {
  "kernelspec": {
   "display_name": "Python 3",
   "language": "python",
   "name": "python3"
  },
  "language_info": {
   "codemirror_mode": {
    "name": "ipython",
    "version": 2
   },
   "file_extension": ".py",
   "mimetype": "text/x-python",
   "name": "python",
   "nbconvert_exporter": "python",
   "pygments_lexer": "ipython2",
   "version": "2.7.6"
  }
 },
 "nbformat": 4,
 "nbformat_minor": 5
}
