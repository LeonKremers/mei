{
 "cells": [
  {
   "cell_type": "code",
   "execution_count": null,
   "id": "bcdd1b85",
   "metadata": {},
   "outputs": [],
   "source": [
    "import sys\n",
    "sys.path.append('../')"
   ]
  },
  {
   "cell_type": "code",
   "execution_count": null,
   "id": "initial_id",
   "metadata": {
    "ExecuteTime": {
     "end_time": "2024-03-07T15:56:07.668936Z",
     "start_time": "2024-03-07T15:56:06.130978Z"
    },
    "collapsed": true
   },
   "outputs": [],
   "source": [
    "import os\n",
    "import torch\n",
    "from mei.methods import gradient_ascent\n",
    "from mei.modules import ConstrainedOutputModel\n",
    "import urllib\n",
    "import datajoint as dj\n",
    "\n",
    "import matplotlib.pyplot as plt\n",
    "from nnfabrik.builder import get_model\n"
   ]
  },
  {
   "cell_type": "code",
   "execution_count": null,
   "id": "f9a27ee731430b63",
   "metadata": {
    "ExecuteTime": {
     "end_time": "2024-03-07T15:56:26.568138Z",
     "start_time": "2024-03-07T15:56:07.669557Z"
    },
    "collapsed": false
   },
   "outputs": [],
   "source": [
    "# only need to run once at the beginning\n",
    "!pip3 install git+https://github.com/sinzlab/nnvision.git@model_builder"
   ]
  },
  {
   "cell_type": "markdown",
   "id": "b6fe653f499b93fb",
   "metadata": {
    "collapsed": false
   },
   "source": [
    "### Download monkey V4 example model files"
   ]
  },
  {
   "cell_type": "code",
   "execution_count": null,
   "id": "cb0a6d5a0f7e8da2",
   "metadata": {
    "ExecuteTime": {
     "end_time": "2024-03-07T16:02:38.412096Z",
     "start_time": "2024-03-07T16:02:36.662940Z"
    },
    "collapsed": false
   },
   "outputs": [],
   "source": [
    "# download example model\n",
    "url = 'https://github.com/sinzlab/nnvision/raw/model_builder/nnvision/data/model_weights/v4_task_driven/task_driven_ensemble_model_01.pth.tar'\n",
    "filepath = './pretrained_models/task_driven_ensemble_model_01.pth.tar'\n",
    "urllib.request.urlretrieve(url, filepath)"
   ]
  },
  {
   "cell_type": "code",
   "execution_count": null,
   "id": "839f01dead2e028e",
   "metadata": {
    "ExecuteTime": {
     "end_time": "2024-03-07T15:56:27.043107Z",
     "start_time": "2024-03-07T15:56:27.041323Z"
    },
    "collapsed": false
   },
   "outputs": [],
   "source": [
    "# some hackity hack to supress datajoint promts (ignore)\n",
    "dj.config[\"database.host\"] = \"{host_address}\"\n",
    "dj.config[\"database.user\"] = \"{user}\"\n",
    "dj.config[\"database.password\"] = \"{password}\""
   ]
  },
  {
   "cell_type": "code",
   "execution_count": null,
   "id": "6d6bb40169d29930",
   "metadata": {
    "ExecuteTime": {
     "end_time": "2024-03-07T16:03:42.532931Z",
     "start_time": "2024-03-07T16:03:42.525407Z"
    },
    "collapsed": false
   },
   "outputs": [],
   "source": [
    "# method for loading example model\n",
    "def get_v4_model():\n",
    "    model_fn = 'nnvision.models.ptrmodels.task_core_gauss_readout'\n",
    "    model_config =  {'input_channels': 1,\n",
    "      'model_name': 'resnet50_l2_eps0_1',\n",
    "      'layer_name': 'layer3.0',\n",
    "      'pretrained': False,\n",
    "      'bias': False,\n",
    "      'final_batchnorm': True,\n",
    "      'final_nonlinearity': True,\n",
    "      'momentum': 0.1,\n",
    "      'fine_tune': False,\n",
    "      'init_mu_range': 0.4,\n",
    "      'init_sigma_range': 0.6,\n",
    "      'readout_bias': True,\n",
    "      'gamma_readout': 3.0,\n",
    "      'gauss_type': 'isotropic',\n",
    "      'elu_offset': -1,\n",
    "                     }\n",
    "    \n",
    "    data_info = {\n",
    "        \"all_sessions\": {\n",
    "            \"input_dimensions\": torch.Size([64, 1, 100, 100]),\n",
    "            \"input_channels\": 1,\n",
    "            \"output_dimension\": 1244,\n",
    "            \"img_mean\": 124.54466,\n",
    "            \"img_std\": 70.28,\n",
    "        },\n",
    "    }\n",
    "    \n",
    "    filename = os.path.join('./pretrained_models/task_driven_ensemble_model_01.pth.tar')\n",
    "    state_dict = torch.load(filename, map_location='cpu')\n",
    "    \n",
    "    v4_data_task_sota = get_model(\n",
    "        model_fn, model_config, seed=10, data_info=data_info, state_dict=state_dict,\n",
    "    )\n",
    "    \n",
    "    return v4_data_task_sota, data_info\n",
    "\n"
   ]
  },
  {
   "cell_type": "markdown",
   "id": "8ad6c4f0009366eb",
   "metadata": {
    "collapsed": false
   },
   "source": [
    "# Load the model\n"
   ]
  },
  {
   "cell_type": "code",
   "execution_count": null,
   "id": "3ad59882797cc0a8",
   "metadata": {
    "ExecuteTime": {
     "end_time": "2024-03-07T16:03:44.293525Z",
     "start_time": "2024-03-07T16:03:43.879304Z"
    },
    "collapsed": false
   },
   "outputs": [],
   "source": [
    "model, data_info = get_v4_model()"
   ]
  },
  {
   "cell_type": "markdown",
   "id": "c788d169aea0d573",
   "metadata": {
    "collapsed": false
   },
   "source": [
    "# Create single cell model\n",
    "Here you select the index of the cell for which you'd like to optimize the MEI"
   ]
  },
  {
   "cell_type": "code",
   "execution_count": null,
   "id": "373b3ddfb37d0ae8",
   "metadata": {
    "ExecuteTime": {
     "end_time": "2024-03-07T16:04:12.277919Z",
     "start_time": "2024-03-07T16:04:12.271129Z"
    },
    "collapsed": false
   },
   "outputs": [],
   "source": [
    "cell_index = 403"
   ]
  },
  {
   "cell_type": "code",
   "execution_count": null,
   "id": "c122423a56c0ff4b",
   "metadata": {
    "ExecuteTime": {
     "end_time": "2024-03-07T16:04:12.953138Z",
     "start_time": "2024-03-07T16:04:12.947998Z"
    },
    "collapsed": false
   },
   "outputs": [],
   "source": [
    "single_cell_model = ConstrainedOutputModel(model, cell_index)"
   ]
  },
  {
   "cell_type": "markdown",
   "id": "1efd3e0f9df5180",
   "metadata": {
    "collapsed": false
   },
   "source": [
    "# Configurations\n",
    "Configurations for the MEI optimization algorithm"
   ]
  },
  {
   "cell_type": "code",
   "execution_count": null,
   "id": "99bd11cab7d2a9bf",
   "metadata": {
    "ExecuteTime": {
     "end_time": "2024-03-07T16:04:19.415414Z",
     "start_time": "2024-03-07T16:04:19.409919Z"
    },
    "collapsed": false
   },
   "outputs": [],
   "source": [
    "seed = 8\n",
    "\n",
    "# learning rate\n",
    "lr = 1\n",
    "\n",
    "# number of iterations for which the MEI is optimized\n",
    "num_iterations = 1000 \n",
    "\n",
    "# interval with which the objective will be evaluated\n",
    "interval = 10\n",
    "\n",
    "# shape of the MEI\n",
    "input_shape = (1,) + data_info[\"all_sessions\"]['input_dimensions'][1:] \n",
    "\n",
    "device='cpu'"
   ]
  },
  {
   "cell_type": "code",
   "execution_count": null,
   "id": "a44d83e2fbe5dbcd",
   "metadata": {
    "ExecuteTime": {
     "end_time": "2024-03-07T16:04:19.765675Z",
     "start_time": "2024-03-07T16:04:19.761910Z"
    },
    "collapsed": false
   },
   "outputs": [],
   "source": [
    "method_config = dict(\n",
    "    initial=dict(path=\"mei.initial.RandomNormal\"),\n",
    "    optimizer=dict(path=\"torch.optim.SGD\", kwargs=dict(lr=lr)),\n",
    "    stopper=dict(path=\"mei.stoppers.NumIterations\", kwargs=dict(num_iterations=num_iterations)),\n",
    "    objectives=[dict(path=\"mei.objectives.EvaluationObjective\", kwargs=dict(interval=interval))],\n",
    "    device=device,\n",
    ")"
   ]
  },
  {
   "cell_type": "markdown",
   "id": "bf698daaa94cd4be",
   "metadata": {
    "collapsed": false
   },
   "source": [
    "# Optimize MEI"
   ]
  },
  {
   "cell_type": "code",
   "execution_count": null,
   "id": "1fee3d12d9400fb7",
   "metadata": {
    "ExecuteTime": {
     "end_time": "2024-03-07T16:05:23.041844Z",
     "start_time": "2024-03-07T16:04:52.570212Z"
    },
    "collapsed": false
   },
   "outputs": [],
   "source": [
    "mei, final_evaluation, tracker_log = gradient_ascent(model=single_cell_model, config=method_config, seed=seed, shape=input_shape)   "
   ]
  },
  {
   "cell_type": "markdown",
   "id": "c381e644273682fe",
   "metadata": {
    "collapsed": false
   },
   "source": [
    "# Visualize MEI"
   ]
  },
  {
   "cell_type": "code",
   "execution_count": null,
   "id": "cd9ad93678e77d68",
   "metadata": {
    "ExecuteTime": {
     "end_time": "2024-03-07T16:05:23.122178Z",
     "start_time": "2024-03-07T16:05:23.043003Z"
    },
    "collapsed": false
   },
   "outputs": [],
   "source": [
    "print(mei.shape)\n",
    "print(torch.max(torch.abs(mei)))\n",
    "plt.imshow(mei[0,0], cmap='gray')"
   ]
  },
  {
   "cell_type": "code",
   "execution_count": null,
   "id": "c75ff7e7f87ecd0d",
   "metadata": {
    "ExecuteTime": {
     "end_time": "2024-03-07T16:05:23.204491Z",
     "start_time": "2024-03-07T16:05:23.130293Z"
    },
    "collapsed": false
   },
   "outputs": [],
   "source": [
    "plt.plot(\n",
    "    tracker_log[\"mei.objectives.EvaluationObjective\"][\"times\"],\n",
    "    tracker_log[\"mei.objectives.EvaluationObjective\"][\"values\"],\n",
    ")\n",
    "plt.gca().set_xlabel(\"# iteration\")\n",
    "plt.gca().set_ylabel(\"evaluation\")"
   ]
  },
  {
   "cell_type": "markdown",
   "id": "35bfb1984459a87",
   "metadata": {
    "collapsed": false
   },
   "source": [
    "# Constraints \n",
    "So far, we have not introduced contraints into MEI optimization. \n",
    "This results in implausible MEIs with high pixel values and high contrast and a forever increasing activation. We need to constrain the overall norm of the MEI and also clip the range of pixel values to the range of pixel values which were in the training data. \n",
    "The norm is then established empirically such, that ideally, value clipping is not necessary."
   ]
  },
  {
   "cell_type": "code",
   "execution_count": null,
   "id": "b5f6177b20a27a2f",
   "metadata": {
    "ExecuteTime": {
     "end_time": "2024-03-07T16:05:42.671870Z",
     "start_time": "2024-03-07T16:05:42.665066Z"
    },
    "collapsed": false
   },
   "outputs": [],
   "source": [
    "p = 2\n",
    "norm_value = 10\n",
    "max_pixel_value = 2.2606\n",
    "min_pixel_value = -1.75047\n",
    "\n",
    "method_config = dict(\n",
    "    initial=dict(path=\"mei.initial.RandomNormal\"),\n",
    "    optimizer=dict(path=\"torch.optim.SGD\", kwargs=dict(lr=lr)),\n",
    "    stopper=dict(path=\"mei.stoppers.NumIterations\", kwargs=dict(num_iterations=num_iterations)),\n",
    "    objectives=[dict(path=\"mei.objectives.EvaluationObjective\", kwargs=dict(interval=interval))],\n",
    "    postprocessing=dict(path=\"mei.postprocessing.PNormConstraintAndClip\", kwargs=dict(p=p, norm_value=norm_value, max_pixel_value=max_pixel_value, min_pixel_value=min_pixel_value)),\n",
    "    device=device,\n",
    ")"
   ]
  },
  {
   "cell_type": "code",
   "execution_count": null,
   "id": "672fc86fa133b0bd",
   "metadata": {
    "ExecuteTime": {
     "end_time": "2024-03-07T16:06:13.763653Z",
     "start_time": "2024-03-07T16:05:43.252737Z"
    },
    "collapsed": false
   },
   "outputs": [],
   "source": [
    "mei, final_evaluation, tracker_log = gradient_ascent(model=single_cell_model, config=method_config, seed=seed,\n",
    "                                                     shape=input_shape)   "
   ]
  },
  {
   "cell_type": "code",
   "execution_count": null,
   "id": "28778da38e6c03ad",
   "metadata": {
    "ExecuteTime": {
     "end_time": "2024-03-07T16:06:13.847668Z",
     "start_time": "2024-03-07T16:06:13.763989Z"
    },
    "collapsed": false
   },
   "outputs": [],
   "source": [
    "print(mei.shape)\n",
    "max_value = torch.max(torch.abs(mei))\n",
    "print(max_value)\n",
    "plt.imshow(mei[0,0], cmap='gray', vmin=min_pixel_value, vmax=max_pixel_value)\n",
    "plt.colorbar()\n",
    "plt.show()\n"
   ]
  },
  {
   "cell_type": "code",
   "execution_count": null,
   "id": "52008e68bb87ea9c",
   "metadata": {
    "ExecuteTime": {
     "end_time": "2024-03-07T16:06:13.918082Z",
     "start_time": "2024-03-07T16:06:13.852678Z"
    },
    "collapsed": false
   },
   "outputs": [],
   "source": [
    "plt.plot(\n",
    "    tracker_log[\"mei.objectives.EvaluationObjective\"][\"times\"],\n",
    "    tracker_log[\"mei.objectives.EvaluationObjective\"][\"values\"],\n",
    ")\n",
    "plt.gca().set_xlabel(\"# iteration\")\n",
    "plt.gca().set_ylabel(\"evaluation\")"
   ]
  }
 ],
 "metadata": {
  "kernelspec": {
   "display_name": "Python 3",
   "language": "python",
   "name": "python3"
  },
  "language_info": {
   "codemirror_mode": {
    "name": "ipython",
    "version": 3
   },
   "file_extension": ".py",
   "mimetype": "text/x-python",
   "name": "python",
   "nbconvert_exporter": "python",
   "pygments_lexer": "ipython3",
   "version": "3.9.18"
  }
 },
 "nbformat": 4,
 "nbformat_minor": 5
}
