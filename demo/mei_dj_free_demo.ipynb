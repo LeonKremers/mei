{
 "cells": [
  {
   "cell_type": "code",
   "execution_count": 1,
   "id": "bcdd1b85",
   "metadata": {},
   "outputs": [],
   "source": [
    "import sys\n",
    "sys.path.append('../')"
   ]
  },
  {
   "cell_type": "code",
   "execution_count": 2,
   "id": "initial_id",
   "metadata": {
    "ExecuteTime": {
     "end_time": "2024-03-07T15:56:07.668936Z",
     "start_time": "2024-03-07T15:56:06.130978Z"
    },
    "collapsed": true
   },
   "outputs": [],
   "source": [
    "import os\n",
    "import torch\n",
    "from mei.methods import gradient_ascent\n",
    "from mei.modules import ConstrainedOutputModel\n",
    "import urllib\n",
    "import datajoint as dj\n",
    "\n",
    "import matplotlib.pyplot as plt\n",
    "from nnfabrik.builder import get_model\n"
   ]
  },
  {
   "cell_type": "code",
   "execution_count": 3,
   "id": "f9a27ee731430b63",
   "metadata": {
    "ExecuteTime": {
     "end_time": "2024-03-07T15:56:26.568138Z",
     "start_time": "2024-03-07T15:56:07.669557Z"
    },
    "collapsed": false
   },
   "outputs": [
    {
     "name": "stdout",
     "output_type": "stream",
     "text": [
      "Collecting git+https://github.com/sinzlab/nnvision.git@model_builder\n",
      "  Cloning https://github.com/sinzlab/nnvision.git (to revision model_builder) to c:\\users\\leon\\appdata\\local\\temp\\pip-req-build-eg4t1umx\n",
      "  Resolved https://github.com/sinzlab/nnvision.git to commit 8218786fa1ef313ead3068af74f09c803701a06b\n",
      "  Preparing metadata (setup.py): started\n",
      "  Preparing metadata (setup.py): finished with status 'done'\n",
      "Collecting neuralpredictors@ git+https://github.com/KonstantinWilleke/neuralpredictors.git@transformer_readout (from nnvision==0.1)\n",
      "  Cloning https://github.com/KonstantinWilleke/neuralpredictors.git (to revision transformer_readout) to c:\\users\\leon\\appdata\\local\\temp\\pip-install-lnpjuv9h\\neuralpredictors_d076acec423442d682ed8cd51a2a2000\n",
      "  Resolved https://github.com/KonstantinWilleke/neuralpredictors.git to commit 5243b69ac2ff34d9aac33aeefdce0b4697da21ff\n",
      "  Installing build dependencies: started\n",
      "  Installing build dependencies: finished with status 'done'\n",
      "  Getting requirements to build wheel: started\n",
      "  Getting requirements to build wheel: finished with status 'done'\n",
      "  Preparing metadata (pyproject.toml): started\n",
      "  Preparing metadata (pyproject.toml): finished with status 'done'\n",
      "Collecting mei@ git+https://github.com/sinzlab/mei.git@inception_loop (from nnvision==0.1)\n",
      "  Cloning https://github.com/sinzlab/mei.git (to revision inception_loop) to c:\\users\\leon\\appdata\\local\\temp\\pip-install-lnpjuv9h\\mei_26a97558260f4f12ad1a1491c4fdd2e3\n",
      "  Resolved https://github.com/sinzlab/mei.git to commit a4545c92829461ac756eb4106850f859b8ffc8a6\n",
      "  Installing build dependencies: started\n",
      "  Installing build dependencies: finished with status 'done'\n",
      "  Getting requirements to build wheel: started\n",
      "  Getting requirements to build wheel: finished with status 'done'\n",
      "  Preparing metadata (pyproject.toml): started\n",
      "  Preparing metadata (pyproject.toml): finished with status 'done'\n",
      "Collecting CORnet@ git+https://github.com/KonstantinWilleke/CORnet.git (from nnvision==0.1)\n",
      "  Cloning https://github.com/KonstantinWilleke/CORnet.git to c:\\users\\leon\\appdata\\local\\temp\\pip-install-lnpjuv9h\\cornet_f89a0dfc865c46eb83bc19e18618cf26\n",
      "  Resolved https://github.com/KonstantinWilleke/CORnet.git to commit 1302e13a964e3fb58a8abbb09fdd1e76d7065333\n",
      "  Preparing metadata (setup.py): started\n",
      "  Preparing metadata (setup.py): finished with status 'done'\n",
      "Collecting ptrnets@ git+https://github.com/sacadena/ptrnets.git@6f459a130ff2fb1a73f29d933e6bea5b435341e7 (from nnvision==0.1)\n",
      "  Using cached ptrnets-0.0.0-py3-none-any.whl\n",
      "Requirement already satisfied: setuptools>=50.3.2 in c:\\users\\leon\\miniconda3\\envs\\mei\\lib\\site-packages (from nnvision==0.1) (68.2.2)\n",
      "Requirement already satisfied: einops in c:\\users\\leon\\miniconda3\\envs\\mei\\lib\\site-packages (from nnvision==0.1) (0.7.0)\n",
      "Requirement already satisfied: scikit-image==0.19.1 in c:\\users\\leon\\miniconda3\\envs\\mei\\lib\\site-packages (from nnvision==0.1) (0.19.1)\n",
      "Requirement already satisfied: numpy==1.22.0 in c:\\users\\leon\\miniconda3\\envs\\mei\\lib\\site-packages (from nnvision==0.1) (1.22.0)\n",
      "Requirement already satisfied: datajoint>=0.12.7 in c:\\users\\leon\\miniconda3\\envs\\mei\\lib\\site-packages (from nnvision==0.1) (0.14.1)\n",
      "Requirement already satisfied: GitPython>=3.1.30 in c:\\users\\leon\\miniconda3\\envs\\mei\\lib\\site-packages (from nnvision==0.1) (3.1.42)\n",
      "Requirement already satisfied: matplotlib>=3.3.2 in c:\\users\\leon\\miniconda3\\envs\\mei\\lib\\site-packages (from nnvision==0.1) (3.8.3)\n",
      "Requirement already satisfied: scipy>=1.5.4 in c:\\users\\leon\\miniconda3\\envs\\mei\\lib\\site-packages (from nnvision==0.1) (1.11.4)\n",
      "Requirement already satisfied: torch>=1.7.0 in c:\\users\\leon\\miniconda3\\envs\\mei\\lib\\site-packages (from nnvision==0.1) (2.2.1)\n",
      "Requirement already satisfied: torchvision>=0.8.1 in c:\\users\\leon\\miniconda3\\envs\\mei\\lib\\site-packages (from nnvision==0.1) (0.17.1)\n",
      "Requirement already satisfied: transformers==4.35.2 in c:\\users\\leon\\miniconda3\\envs\\mei\\lib\\site-packages (from nnvision==0.1) (4.35.2)\n",
      "Requirement already satisfied: tqdm>=4.51.0 in c:\\users\\leon\\miniconda3\\envs\\mei\\lib\\site-packages (from nnvision==0.1) (4.66.2)\n",
      "Requirement already satisfied: nnfabrik in c:\\users\\leon\\miniconda3\\envs\\mei\\lib\\site-packages (from nnvision==0.1) (0.2.1)\n",
      "Requirement already satisfied: networkx>=2.2 in c:\\users\\leon\\miniconda3\\envs\\mei\\lib\\site-packages (from scikit-image==0.19.1->nnvision==0.1) (2.6.3)\n",
      "Requirement already satisfied: pillow!=7.1.0,!=7.1.1,!=8.3.0,>=6.1.0 in c:\\users\\leon\\miniconda3\\envs\\mei\\lib\\site-packages (from scikit-image==0.19.1->nnvision==0.1) (10.2.0)\n",
      "Requirement already satisfied: imageio>=2.4.1 in c:\\users\\leon\\miniconda3\\envs\\mei\\lib\\site-packages (from scikit-image==0.19.1->nnvision==0.1) (2.34.0)\n",
      "Requirement already satisfied: tifffile>=2019.7.26 in c:\\users\\leon\\miniconda3\\envs\\mei\\lib\\site-packages (from scikit-image==0.19.1->nnvision==0.1) (2024.2.12)\n",
      "Requirement already satisfied: PyWavelets>=1.1.1 in c:\\users\\leon\\miniconda3\\envs\\mei\\lib\\site-packages (from scikit-image==0.19.1->nnvision==0.1) (1.4.1)\n",
      "Requirement already satisfied: packaging>=20.0 in c:\\users\\leon\\miniconda3\\envs\\mei\\lib\\site-packages (from scikit-image==0.19.1->nnvision==0.1) (23.2)\n",
      "Requirement already satisfied: filelock in c:\\users\\leon\\miniconda3\\envs\\mei\\lib\\site-packages (from transformers==4.35.2->nnvision==0.1) (3.13.1)\n",
      "Requirement already satisfied: huggingface-hub<1.0,>=0.16.4 in c:\\users\\leon\\miniconda3\\envs\\mei\\lib\\site-packages (from transformers==4.35.2->nnvision==0.1) (0.21.4)\n",
      "Requirement already satisfied: pyyaml>=5.1 in c:\\users\\leon\\miniconda3\\envs\\mei\\lib\\site-packages (from transformers==4.35.2->nnvision==0.1) (6.0.1)\n",
      "Requirement already satisfied: regex!=2019.12.17 in c:\\users\\leon\\miniconda3\\envs\\mei\\lib\\site-packages (from transformers==4.35.2->nnvision==0.1) (2023.12.25)\n",
      "Requirement already satisfied: requests in c:\\users\\leon\\miniconda3\\envs\\mei\\lib\\site-packages (from transformers==4.35.2->nnvision==0.1) (2.31.0)\n",
      "Requirement already satisfied: tokenizers<0.19,>=0.14 in c:\\users\\leon\\miniconda3\\envs\\mei\\lib\\site-packages (from transformers==4.35.2->nnvision==0.1) (0.15.2)\n",
      "Requirement already satisfied: safetensors>=0.3.1 in c:\\users\\leon\\miniconda3\\envs\\mei\\lib\\site-packages (from transformers==4.35.2->nnvision==0.1) (0.4.2)\n",
      "Requirement already satisfied: pymysql>=0.7.2 in c:\\users\\leon\\miniconda3\\envs\\mei\\lib\\site-packages (from datajoint>=0.12.7->nnvision==0.1) (1.1.0)\n",
      "Requirement already satisfied: pyparsing in c:\\users\\leon\\miniconda3\\envs\\mei\\lib\\site-packages (from datajoint>=0.12.7->nnvision==0.1) (3.1.2)\n",
      "Requirement already satisfied: ipython in c:\\users\\leon\\miniconda3\\envs\\mei\\lib\\site-packages (from datajoint>=0.12.7->nnvision==0.1) (8.12.0)\n",
      "Requirement already satisfied: pandas in c:\\users\\leon\\miniconda3\\envs\\mei\\lib\\site-packages (from datajoint>=0.12.7->nnvision==0.1) (2.0.3)\n",
      "Requirement already satisfied: pydot in c:\\users\\leon\\miniconda3\\envs\\mei\\lib\\site-packages (from datajoint>=0.12.7->nnvision==0.1) (2.0.0)\n",
      "Requirement already satisfied: minio>=7.0.0 in c:\\users\\leon\\miniconda3\\envs\\mei\\lib\\site-packages (from datajoint>=0.12.7->nnvision==0.1) (7.2.5)\n",
      "Requirement already satisfied: cryptography in c:\\users\\leon\\miniconda3\\envs\\mei\\lib\\site-packages (from datajoint>=0.12.7->nnvision==0.1) (42.0.5)\n",
      "Requirement already satisfied: otumat in c:\\users\\leon\\miniconda3\\envs\\mei\\lib\\site-packages (from datajoint>=0.12.7->nnvision==0.1) (0.3.1)\n",
      "Requirement already satisfied: urllib3 in c:\\users\\leon\\miniconda3\\envs\\mei\\lib\\site-packages (from datajoint>=0.12.7->nnvision==0.1) (2.2.1)\n",
      "Requirement already satisfied: gitdb<5,>=4.0.1 in c:\\users\\leon\\miniconda3\\envs\\mei\\lib\\site-packages (from GitPython>=3.1.30->nnvision==0.1) (4.0.11)\n",
      "Requirement already satisfied: contourpy>=1.0.1 in c:\\users\\leon\\miniconda3\\envs\\mei\\lib\\site-packages (from matplotlib>=3.3.2->nnvision==0.1) (1.2.0)\n",
      "Requirement already satisfied: cycler>=0.10 in c:\\users\\leon\\miniconda3\\envs\\mei\\lib\\site-packages (from matplotlib>=3.3.2->nnvision==0.1) (0.12.1)\n",
      "Requirement already satisfied: fonttools>=4.22.0 in c:\\users\\leon\\miniconda3\\envs\\mei\\lib\\site-packages (from matplotlib>=3.3.2->nnvision==0.1) (4.49.0)\n",
      "Requirement already satisfied: kiwisolver>=1.3.1 in c:\\users\\leon\\miniconda3\\envs\\mei\\lib\\site-packages (from matplotlib>=3.3.2->nnvision==0.1) (1.4.5)\n",
      "Requirement already satisfied: python-dateutil>=2.7 in c:\\users\\leon\\miniconda3\\envs\\mei\\lib\\site-packages (from matplotlib>=3.3.2->nnvision==0.1) (2.9.0)\n",
      "Requirement already satisfied: importlib-resources>=3.2.0 in c:\\users\\leon\\miniconda3\\envs\\mei\\lib\\site-packages (from matplotlib>=3.3.2->nnvision==0.1) (6.1.3)\n",
      "Requirement already satisfied: typing-extensions>=4.8.0 in c:\\users\\leon\\miniconda3\\envs\\mei\\lib\\site-packages (from torch>=1.7.0->nnvision==0.1) (4.10.0)\n",
      "Requirement already satisfied: sympy in c:\\users\\leon\\miniconda3\\envs\\mei\\lib\\site-packages (from torch>=1.7.0->nnvision==0.1) (1.12)\n",
      "Requirement already satisfied: jinja2 in c:\\users\\leon\\miniconda3\\envs\\mei\\lib\\site-packages (from torch>=1.7.0->nnvision==0.1) (3.1.3)\n",
      "Requirement already satisfied: fsspec in c:\\users\\leon\\miniconda3\\envs\\mei\\lib\\site-packages (from torch>=1.7.0->nnvision==0.1) (2024.2.0)\n",
      "Requirement already satisfied: colorama in c:\\users\\leon\\miniconda3\\envs\\mei\\lib\\site-packages (from tqdm>=4.51.0->nnvision==0.1) (0.4.6)\n",
      "Requirement already satisfied: fire in c:\\users\\leon\\miniconda3\\envs\\mei\\lib\\site-packages (from CORnet@ git+https://github.com/KonstantinWilleke/CORnet.git->nnvision==0.1) (0.5.0)\n",
      "Requirement already satisfied: pytest in c:\\users\\leon\\miniconda3\\envs\\mei\\lib\\site-packages (from mei@ git+https://github.com/sinzlab/mei.git@inception_loop->nnvision==0.1) (8.0.2)\n",
      "Requirement already satisfied: h5py in c:\\users\\leon\\miniconda3\\envs\\mei\\lib\\site-packages (from neuralpredictors@ git+https://github.com/KonstantinWilleke/neuralpredictors.git@transformer_readout->nnvision==0.1) (3.10.0)\n",
      "Requirement already satisfied: sphinx in c:\\users\\leon\\miniconda3\\envs\\mei\\lib\\site-packages (from nnfabrik->nnvision==0.1) (7.2.6)\n",
      "Requirement already satisfied: pytorch-sphinx-theme in c:\\users\\leon\\miniconda3\\envs\\mei\\lib\\site-packages (from nnfabrik->nnvision==0.1) (0.0.19)\n",
      "Requirement already satisfied: recommonmark in c:\\users\\leon\\miniconda3\\envs\\mei\\lib\\site-packages (from nnfabrik->nnvision==0.1) (0.7.1)\n",
      "Requirement already satisfied: gdown in c:\\users\\leon\\miniconda3\\envs\\mei\\lib\\site-packages (from ptrnets@ git+https://github.com/sacadena/ptrnets.git@6f459a130ff2fb1a73f29d933e6bea5b435341e7->nnvision==0.1) (5.1.0)\n",
      "Requirement already satisfied: visualpriors in c:\\users\\leon\\miniconda3\\envs\\mei\\lib\\site-packages (from ptrnets@ git+https://github.com/sacadena/ptrnets.git@6f459a130ff2fb1a73f29d933e6bea5b435341e7->nnvision==0.1) (0.3.5)\n",
      "Requirement already satisfied: smmap<6,>=3.0.1 in c:\\users\\leon\\miniconda3\\envs\\mei\\lib\\site-packages (from gitdb<5,>=4.0.1->GitPython>=3.1.30->nnvision==0.1) (5.0.1)\n",
      "Requirement already satisfied: zipp>=3.1.0 in c:\\users\\leon\\miniconda3\\envs\\mei\\lib\\site-packages (from importlib-resources>=3.2.0->matplotlib>=3.3.2->nnvision==0.1) (3.17.0)\n",
      "Requirement already satisfied: certifi in c:\\users\\leon\\miniconda3\\envs\\mei\\lib\\site-packages (from minio>=7.0.0->datajoint>=0.12.7->nnvision==0.1) (2024.2.2)\n",
      "Requirement already satisfied: argon2-cffi in c:\\users\\leon\\miniconda3\\envs\\mei\\lib\\site-packages (from minio>=7.0.0->datajoint>=0.12.7->nnvision==0.1) (23.1.0)\n",
      "Requirement already satisfied: pycryptodome in c:\\users\\leon\\miniconda3\\envs\\mei\\lib\\site-packages (from minio>=7.0.0->datajoint>=0.12.7->nnvision==0.1) (3.20.0)\n",
      "Requirement already satisfied: six>=1.5 in c:\\users\\leon\\miniconda3\\envs\\mei\\lib\\site-packages (from python-dateutil>=2.7->matplotlib>=3.3.2->nnvision==0.1) (1.16.0)\n",
      "Requirement already satisfied: cffi>=1.12 in c:\\users\\leon\\miniconda3\\envs\\mei\\lib\\site-packages (from cryptography->datajoint>=0.12.7->nnvision==0.1) (1.16.0)\n",
      "Requirement already satisfied: termcolor in c:\\users\\leon\\miniconda3\\envs\\mei\\lib\\site-packages (from fire->CORnet@ git+https://github.com/KonstantinWilleke/CORnet.git->nnvision==0.1) (2.4.0)\n",
      "Requirement already satisfied: beautifulsoup4 in c:\\users\\leon\\miniconda3\\envs\\mei\\lib\\site-packages (from gdown->ptrnets@ git+https://github.com/sacadena/ptrnets.git@6f459a130ff2fb1a73f29d933e6bea5b435341e7->nnvision==0.1) (4.12.3)\n",
      "Requirement already satisfied: backcall in c:\\users\\leon\\miniconda3\\envs\\mei\\lib\\site-packages (from ipython->datajoint>=0.12.7->nnvision==0.1) (0.2.0)\n",
      "Requirement already satisfied: decorator in c:\\users\\leon\\miniconda3\\envs\\mei\\lib\\site-packages (from ipython->datajoint>=0.12.7->nnvision==0.1) (5.1.1)\n",
      "Requirement already satisfied: jedi>=0.16 in c:\\users\\leon\\miniconda3\\envs\\mei\\lib\\site-packages (from ipython->datajoint>=0.12.7->nnvision==0.1) (0.19.1)\n",
      "Requirement already satisfied: matplotlib-inline in c:\\users\\leon\\miniconda3\\envs\\mei\\lib\\site-packages (from ipython->datajoint>=0.12.7->nnvision==0.1) (0.1.6)\n",
      "Requirement already satisfied: pickleshare in c:\\users\\leon\\miniconda3\\envs\\mei\\lib\\site-packages (from ipython->datajoint>=0.12.7->nnvision==0.1) (0.7.5)\n",
      "Requirement already satisfied: prompt-toolkit!=3.0.37,<3.1.0,>=3.0.30 in c:\\users\\leon\\miniconda3\\envs\\mei\\lib\\site-packages (from ipython->datajoint>=0.12.7->nnvision==0.1) (3.0.42)\n",
      "Requirement already satisfied: pygments>=2.4.0 in c:\\users\\leon\\miniconda3\\envs\\mei\\lib\\site-packages (from ipython->datajoint>=0.12.7->nnvision==0.1) (2.17.2)\n",
      "Requirement already satisfied: stack-data in c:\\users\\leon\\miniconda3\\envs\\mei\\lib\\site-packages (from ipython->datajoint>=0.12.7->nnvision==0.1) (0.6.2)\n",
      "Requirement already satisfied: traitlets>=5 in c:\\users\\leon\\miniconda3\\envs\\mei\\lib\\site-packages (from ipython->datajoint>=0.12.7->nnvision==0.1) (5.14.1)\n",
      "Requirement already satisfied: MarkupSafe>=2.0 in c:\\users\\leon\\miniconda3\\envs\\mei\\lib\\site-packages (from jinja2->torch>=1.7.0->nnvision==0.1) (2.1.5)\n",
      "Requirement already satisfied: flask in c:\\users\\leon\\miniconda3\\envs\\mei\\lib\\site-packages (from otumat->datajoint>=0.12.7->nnvision==0.1) (3.0.2)\n",
      "Requirement already satisfied: appdirs in c:\\users\\leon\\miniconda3\\envs\\mei\\lib\\site-packages (from otumat->datajoint>=0.12.7->nnvision==0.1) (1.4.4)\n",
      "Requirement already satisfied: watchdog in c:\\users\\leon\\miniconda3\\envs\\mei\\lib\\site-packages (from otumat->datajoint>=0.12.7->nnvision==0.1) (4.0.0)\n",
      "Requirement already satisfied: pytz>=2020.1 in c:\\users\\leon\\miniconda3\\envs\\mei\\lib\\site-packages (from pandas->datajoint>=0.12.7->nnvision==0.1) (2024.1)\n",
      "Requirement already satisfied: tzdata>=2022.1 in c:\\users\\leon\\miniconda3\\envs\\mei\\lib\\site-packages (from pandas->datajoint>=0.12.7->nnvision==0.1) (2024.1)\n",
      "Requirement already satisfied: iniconfig in c:\\users\\leon\\miniconda3\\envs\\mei\\lib\\site-packages (from pytest->mei@ git+https://github.com/sinzlab/mei.git@inception_loop->nnvision==0.1) (2.0.0)\n",
      "Requirement already satisfied: pluggy<2.0,>=1.3.0 in c:\\users\\leon\\miniconda3\\envs\\mei\\lib\\site-packages (from pytest->mei@ git+https://github.com/sinzlab/mei.git@inception_loop->nnvision==0.1) (1.4.0)\n",
      "Requirement already satisfied: exceptiongroup>=1.0.0rc8 in c:\\users\\leon\\miniconda3\\envs\\mei\\lib\\site-packages (from pytest->mei@ git+https://github.com/sinzlab/mei.git@inception_loop->nnvision==0.1) (1.2.0)\n",
      "Requirement already satisfied: tomli>=1.0.0 in c:\\users\\leon\\miniconda3\\envs\\mei\\lib\\site-packages (from pytest->mei@ git+https://github.com/sinzlab/mei.git@inception_loop->nnvision==0.1) (2.0.1)\n",
      "Requirement already satisfied: commonmark>=0.8.1 in c:\\users\\leon\\miniconda3\\envs\\mei\\lib\\site-packages (from recommonmark->nnfabrik->nnvision==0.1) (0.9.1)\n",
      "Requirement already satisfied: docutils>=0.11 in c:\\users\\leon\\miniconda3\\envs\\mei\\lib\\site-packages (from recommonmark->nnfabrik->nnvision==0.1) (0.20.1)\n",
      "Requirement already satisfied: sphinxcontrib-applehelp in c:\\users\\leon\\miniconda3\\envs\\mei\\lib\\site-packages (from sphinx->nnfabrik->nnvision==0.1) (1.0.8)\n",
      "Requirement already satisfied: sphinxcontrib-devhelp in c:\\users\\leon\\miniconda3\\envs\\mei\\lib\\site-packages (from sphinx->nnfabrik->nnvision==0.1) (1.0.6)\n",
      "Requirement already satisfied: sphinxcontrib-jsmath in c:\\users\\leon\\miniconda3\\envs\\mei\\lib\\site-packages (from sphinx->nnfabrik->nnvision==0.1) (1.0.1)\n",
      "Requirement already satisfied: sphinxcontrib-htmlhelp>=2.0.0 in c:\\users\\leon\\miniconda3\\envs\\mei\\lib\\site-packages (from sphinx->nnfabrik->nnvision==0.1) (2.0.5)\n",
      "Requirement already satisfied: sphinxcontrib-serializinghtml>=1.1.9 in c:\\users\\leon\\miniconda3\\envs\\mei\\lib\\site-packages (from sphinx->nnfabrik->nnvision==0.1) (1.1.10)\n",
      "Requirement already satisfied: sphinxcontrib-qthelp in c:\\users\\leon\\miniconda3\\envs\\mei\\lib\\site-packages (from sphinx->nnfabrik->nnvision==0.1) (1.0.7)\n",
      "Requirement already satisfied: snowballstemmer>=2.0 in c:\\users\\leon\\miniconda3\\envs\\mei\\lib\\site-packages (from sphinx->nnfabrik->nnvision==0.1) (2.2.0)\n",
      "Requirement already satisfied: babel>=2.9 in c:\\users\\leon\\miniconda3\\envs\\mei\\lib\\site-packages (from sphinx->nnfabrik->nnvision==0.1) (2.14.0)\n",
      "Requirement already satisfied: alabaster<0.8,>=0.7 in c:\\users\\leon\\miniconda3\\envs\\mei\\lib\\site-packages (from sphinx->nnfabrik->nnvision==0.1) (0.7.16)\n",
      "Requirement already satisfied: imagesize>=1.3 in c:\\users\\leon\\miniconda3\\envs\\mei\\lib\\site-packages (from sphinx->nnfabrik->nnvision==0.1) (1.4.1)\n",
      "Requirement already satisfied: importlib-metadata>=4.8 in c:\\users\\leon\\miniconda3\\envs\\mei\\lib\\site-packages (from sphinx->nnfabrik->nnvision==0.1) (7.0.1)\n",
      "Requirement already satisfied: charset-normalizer<4,>=2 in c:\\users\\leon\\miniconda3\\envs\\mei\\lib\\site-packages (from requests->transformers==4.35.2->nnvision==0.1) (3.3.2)\n",
      "Requirement already satisfied: idna<4,>=2.5 in c:\\users\\leon\\miniconda3\\envs\\mei\\lib\\site-packages (from requests->transformers==4.35.2->nnvision==0.1) (3.6)\n",
      "Requirement already satisfied: mpmath>=0.19 in c:\\users\\leon\\miniconda3\\envs\\mei\\lib\\site-packages (from sympy->torch>=1.7.0->nnvision==0.1) (1.3.0)\n",
      "Requirement already satisfied: pycparser in c:\\users\\leon\\miniconda3\\envs\\mei\\lib\\site-packages (from cffi>=1.12->cryptography->datajoint>=0.12.7->nnvision==0.1) (2.21)\n",
      "Requirement already satisfied: parso<0.9.0,>=0.8.3 in c:\\users\\leon\\miniconda3\\envs\\mei\\lib\\site-packages (from jedi>=0.16->ipython->datajoint>=0.12.7->nnvision==0.1) (0.8.3)\n",
      "Requirement already satisfied: wcwidth in c:\\users\\leon\\miniconda3\\envs\\mei\\lib\\site-packages (from prompt-toolkit!=3.0.37,<3.1.0,>=3.0.30->ipython->datajoint>=0.12.7->nnvision==0.1) (0.2.13)\n",
      "Requirement already satisfied: argon2-cffi-bindings in c:\\users\\leon\\miniconda3\\envs\\mei\\lib\\site-packages (from argon2-cffi->minio>=7.0.0->datajoint>=0.12.7->nnvision==0.1) (21.2.0)\n",
      "Requirement already satisfied: soupsieve>1.2 in c:\\users\\leon\\miniconda3\\envs\\mei\\lib\\site-packages (from beautifulsoup4->gdown->ptrnets@ git+https://github.com/sacadena/ptrnets.git@6f459a130ff2fb1a73f29d933e6bea5b435341e7->nnvision==0.1) (2.5)\n",
      "Requirement already satisfied: Werkzeug>=3.0.0 in c:\\users\\leon\\miniconda3\\envs\\mei\\lib\\site-packages (from flask->otumat->datajoint>=0.12.7->nnvision==0.1) (3.0.1)\n",
      "Requirement already satisfied: itsdangerous>=2.1.2 in c:\\users\\leon\\miniconda3\\envs\\mei\\lib\\site-packages (from flask->otumat->datajoint>=0.12.7->nnvision==0.1) (2.1.2)\n",
      "Requirement already satisfied: click>=8.1.3 in c:\\users\\leon\\miniconda3\\envs\\mei\\lib\\site-packages (from flask->otumat->datajoint>=0.12.7->nnvision==0.1) (8.1.7)\n",
      "Requirement already satisfied: blinker>=1.6.2 in c:\\users\\leon\\miniconda3\\envs\\mei\\lib\\site-packages (from flask->otumat->datajoint>=0.12.7->nnvision==0.1) (1.7.0)\n",
      "Requirement already satisfied: PySocks!=1.5.7,>=1.5.6 in c:\\users\\leon\\miniconda3\\envs\\mei\\lib\\site-packages (from requests[socks]->gdown->ptrnets@ git+https://github.com/sacadena/ptrnets.git@6f459a130ff2fb1a73f29d933e6bea5b435341e7->nnvision==0.1) (1.7.1)\n",
      "Requirement already satisfied: executing>=1.2.0 in c:\\users\\leon\\miniconda3\\envs\\mei\\lib\\site-packages (from stack-data->ipython->datajoint>=0.12.7->nnvision==0.1) (2.0.1)\n",
      "Requirement already satisfied: asttokens>=2.1.0 in c:\\users\\leon\\miniconda3\\envs\\mei\\lib\\site-packages (from stack-data->ipython->datajoint>=0.12.7->nnvision==0.1) (2.4.1)\n",
      "Requirement already satisfied: pure-eval in c:\\users\\leon\\miniconda3\\envs\\mei\\lib\\site-packages (from stack-data->ipython->datajoint>=0.12.7->nnvision==0.1) (0.2.2)\n"
     ]
    },
    {
     "name": "stderr",
     "output_type": "stream",
     "text": [
      "  Running command git clone --filter=blob:none --quiet https://github.com/sinzlab/nnvision.git 'C:\\Users\\Leon\\AppData\\Local\\Temp\\pip-req-build-eg4t1umx'\n",
      "  Running command git checkout -b model_builder --track origin/model_builder\n",
      "  branch 'model_builder' set up to track 'origin/model_builder'.\n",
      "  Switched to a new branch 'model_builder'\n",
      "  Running command git clone --filter=blob:none --quiet https://github.com/KonstantinWilleke/neuralpredictors.git 'C:\\Users\\Leon\\AppData\\Local\\Temp\\pip-install-lnpjuv9h\\neuralpredictors_d076acec423442d682ed8cd51a2a2000'\n",
      "  Running command git checkout -b transformer_readout --track origin/transformer_readout\n",
      "  branch 'transformer_readout' set up to track 'origin/transformer_readout'.\n",
      "  Switched to a new branch 'transformer_readout'\n",
      "  Running command git clone --filter=blob:none --quiet https://github.com/sinzlab/mei.git 'C:\\Users\\Leon\\AppData\\Local\\Temp\\pip-install-lnpjuv9h\\mei_26a97558260f4f12ad1a1491c4fdd2e3'\n",
      "  Running command git checkout -b inception_loop --track origin/inception_loop\n",
      "  branch 'inception_loop' set up to track 'origin/inception_loop'.\n",
      "  Switched to a new branch 'inception_loop'\n",
      "  Running command git clone --filter=blob:none --quiet https://github.com/KonstantinWilleke/CORnet.git 'C:\\Users\\Leon\\AppData\\Local\\Temp\\pip-install-lnpjuv9h\\cornet_f89a0dfc865c46eb83bc19e18618cf26'\n"
     ]
    }
   ],
   "source": [
    "# only need to run once at the beginning\n",
    "!pip3 install git+https://github.com/sinzlab/nnvision.git@model_builder"
   ]
  },
  {
   "cell_type": "markdown",
   "id": "b6fe653f499b93fb",
   "metadata": {
    "collapsed": false
   },
   "source": [
    "### Download monkey V4 example model files"
   ]
  },
  {
   "cell_type": "code",
   "execution_count": 8,
   "id": "cb0a6d5a0f7e8da2",
   "metadata": {
    "ExecuteTime": {
     "end_time": "2024-03-07T16:02:38.412096Z",
     "start_time": "2024-03-07T16:02:36.662940Z"
    },
    "collapsed": false
   },
   "outputs": [
    {
     "data": {
      "text/plain": [
       "('./pretrained_models/task_driven_ensemble_model_01.pth.tar',\n",
       " <http.client.HTTPMessage at 0x1a105c0eb50>)"
      ]
     },
     "execution_count": 8,
     "metadata": {},
     "output_type": "execute_result"
    }
   ],
   "source": [
    "\n",
    "# download example model\n",
    "os.makedirs('./pretrained_models', exist_ok=True)\n",
    "url = 'https://github.com/sinzlab/nnvision/raw/model_builder/nnvision/data/model_weights/v4_task_driven/task_driven_ensemble_model_01.pth.tar'\n",
    "filepath = './pretrained_models/task_driven_ensemble_model_01.pth.tar'\n",
    "urllib.request.urlretrieve(url, filepath)"
   ]
  },
  {
   "cell_type": "code",
   "execution_count": null,
   "id": "2121c6e8",
   "metadata": {},
   "outputs": [],
   "source": [
    "import urllib.request\n",
    "\n",
    "url = \"https://example.com/file.txt\""
   ]
  },
  {
   "cell_type": "code",
   "execution_count": null,
   "id": "839f01dead2e028e",
   "metadata": {
    "ExecuteTime": {
     "end_time": "2024-03-07T15:56:27.043107Z",
     "start_time": "2024-03-07T15:56:27.041323Z"
    },
    "collapsed": false
   },
   "outputs": [],
   "source": [
    "# some hackity hack to supress datajoint promts (ignore)\n",
    "dj.config[\"database.host\"] = \"{host_address}\"\n",
    "dj.config[\"database.user\"] = \"{user}\"\n",
    "dj.config[\"database.password\"] = \"{password}\""
   ]
  },
  {
   "cell_type": "code",
   "execution_count": null,
   "id": "6d6bb40169d29930",
   "metadata": {
    "ExecuteTime": {
     "end_time": "2024-03-07T16:03:42.532931Z",
     "start_time": "2024-03-07T16:03:42.525407Z"
    },
    "collapsed": false
   },
   "outputs": [],
   "source": [
    "# method for loading example model\n",
    "def get_v4_model():\n",
    "    model_fn = 'nnvision.models.ptrmodels.task_core_gauss_readout'\n",
    "    model_config =  {'input_channels': 1,\n",
    "      'model_name': 'resnet50_l2_eps0_1',\n",
    "      'layer_name': 'layer3.0',\n",
    "      'pretrained': False,\n",
    "      'bias': False,\n",
    "      'final_batchnorm': True,\n",
    "      'final_nonlinearity': True,\n",
    "      'momentum': 0.1,\n",
    "      'fine_tune': False,\n",
    "      'init_mu_range': 0.4,\n",
    "      'init_sigma_range': 0.6,\n",
    "      'readout_bias': True,\n",
    "      'gamma_readout': 3.0,\n",
    "      'gauss_type': 'isotropic',\n",
    "      'elu_offset': -1,\n",
    "                     }\n",
    "    \n",
    "    data_info = {\n",
    "        \"all_sessions\": {\n",
    "            \"input_dimensions\": torch.Size([64, 1, 100, 100]),\n",
    "            \"input_channels\": 1,\n",
    "            \"output_dimension\": 1244,\n",
    "            \"img_mean\": 124.54466,\n",
    "            \"img_std\": 70.28,\n",
    "        },\n",
    "    }\n",
    "    \n",
    "    filename = os.path.join('./pretrained_models/task_driven_ensemble_model_01.pth.tar')\n",
    "    state_dict = torch.load(filename, map_location='cpu')\n",
    "    \n",
    "    v4_data_task_sota = get_model(\n",
    "        model_fn, model_config, seed=10, data_info=data_info, state_dict=state_dict,\n",
    "    )\n",
    "    \n",
    "    return v4_data_task_sota, data_info\n",
    "\n"
   ]
  },
  {
   "cell_type": "markdown",
   "id": "8ad6c4f0009366eb",
   "metadata": {
    "collapsed": false
   },
   "source": [
    "# Load the model\n"
   ]
  },
  {
   "cell_type": "code",
   "execution_count": null,
   "id": "3ad59882797cc0a8",
   "metadata": {
    "ExecuteTime": {
     "end_time": "2024-03-07T16:03:44.293525Z",
     "start_time": "2024-03-07T16:03:43.879304Z"
    },
    "collapsed": false
   },
   "outputs": [],
   "source": [
    "model, data_info = get_v4_model()"
   ]
  },
  {
   "cell_type": "markdown",
   "id": "c788d169aea0d573",
   "metadata": {
    "collapsed": false
   },
   "source": [
    "# Create single cell model\n",
    "Here you select the index of the cell for which you'd like to optimize the MEI"
   ]
  },
  {
   "cell_type": "code",
   "execution_count": null,
   "id": "373b3ddfb37d0ae8",
   "metadata": {
    "ExecuteTime": {
     "end_time": "2024-03-07T16:04:12.277919Z",
     "start_time": "2024-03-07T16:04:12.271129Z"
    },
    "collapsed": false
   },
   "outputs": [],
   "source": [
    "cell_index = 403"
   ]
  },
  {
   "cell_type": "code",
   "execution_count": null,
   "id": "c122423a56c0ff4b",
   "metadata": {
    "ExecuteTime": {
     "end_time": "2024-03-07T16:04:12.953138Z",
     "start_time": "2024-03-07T16:04:12.947998Z"
    },
    "collapsed": false
   },
   "outputs": [],
   "source": [
    "single_cell_model = ConstrainedOutputModel(model, cell_index)"
   ]
  },
  {
   "cell_type": "markdown",
   "id": "1efd3e0f9df5180",
   "metadata": {
    "collapsed": false
   },
   "source": [
    "# Configurations\n",
    "Configurations for the MEI optimization algorithm"
   ]
  },
  {
   "cell_type": "code",
   "execution_count": null,
   "id": "99bd11cab7d2a9bf",
   "metadata": {
    "ExecuteTime": {
     "end_time": "2024-03-07T16:04:19.415414Z",
     "start_time": "2024-03-07T16:04:19.409919Z"
    },
    "collapsed": false
   },
   "outputs": [],
   "source": [
    "seed = 8\n",
    "\n",
    "# learning rate\n",
    "lr = 1\n",
    "\n",
    "# number of iterations for which the MEI is optimized\n",
    "num_iterations = 1000 \n",
    "\n",
    "# interval with which the objective will be evaluated\n",
    "interval = 10\n",
    "\n",
    "# shape of the MEI\n",
    "input_shape = (1,) + data_info[\"all_sessions\"]['input_dimensions'][1:] \n",
    "\n",
    "device='cpu'"
   ]
  },
  {
   "cell_type": "code",
   "execution_count": null,
   "id": "a44d83e2fbe5dbcd",
   "metadata": {
    "ExecuteTime": {
     "end_time": "2024-03-07T16:04:19.765675Z",
     "start_time": "2024-03-07T16:04:19.761910Z"
    },
    "collapsed": false
   },
   "outputs": [],
   "source": [
    "method_config = dict(\n",
    "    initial=dict(path=\"mei.initial.RandomNormal\"),\n",
    "    optimizer=dict(path=\"torch.optim.SGD\", kwargs=dict(lr=lr)),\n",
    "    stopper=dict(path=\"mei.stoppers.NumIterations\", kwargs=dict(num_iterations=num_iterations)),\n",
    "    objectives=[dict(path=\"mei.objectives.EvaluationObjective\", kwargs=dict(interval=interval))],\n",
    "    device=device,\n",
    ")"
   ]
  },
  {
   "cell_type": "markdown",
   "id": "bf698daaa94cd4be",
   "metadata": {
    "collapsed": false
   },
   "source": [
    "# Optimize MEI"
   ]
  },
  {
   "cell_type": "code",
   "execution_count": null,
   "id": "1fee3d12d9400fb7",
   "metadata": {
    "ExecuteTime": {
     "end_time": "2024-03-07T16:05:23.041844Z",
     "start_time": "2024-03-07T16:04:52.570212Z"
    },
    "collapsed": false
   },
   "outputs": [],
   "source": [
    "mei, final_evaluation, tracker_log = gradient_ascent(model=single_cell_model, config=method_config, seed=seed, shape=input_shape)   "
   ]
  },
  {
   "cell_type": "markdown",
   "id": "c381e644273682fe",
   "metadata": {
    "collapsed": false
   },
   "source": [
    "# Visualize MEI"
   ]
  },
  {
   "cell_type": "code",
   "execution_count": null,
   "id": "cd9ad93678e77d68",
   "metadata": {
    "ExecuteTime": {
     "end_time": "2024-03-07T16:05:23.122178Z",
     "start_time": "2024-03-07T16:05:23.043003Z"
    },
    "collapsed": false
   },
   "outputs": [],
   "source": [
    "print(mei.shape)\n",
    "print(torch.max(torch.abs(mei)))\n",
    "plt.imshow(mei[0,0], cmap='gray')"
   ]
  },
  {
   "cell_type": "code",
   "execution_count": null,
   "id": "c75ff7e7f87ecd0d",
   "metadata": {
    "ExecuteTime": {
     "end_time": "2024-03-07T16:05:23.204491Z",
     "start_time": "2024-03-07T16:05:23.130293Z"
    },
    "collapsed": false
   },
   "outputs": [],
   "source": [
    "plt.plot(\n",
    "    tracker_log[\"mei.objectives.EvaluationObjective\"][\"times\"],\n",
    "    tracker_log[\"mei.objectives.EvaluationObjective\"][\"values\"],\n",
    ")\n",
    "plt.gca().set_xlabel(\"# iteration\")\n",
    "plt.gca().set_ylabel(\"evaluation\")"
   ]
  },
  {
   "cell_type": "markdown",
   "id": "35bfb1984459a87",
   "metadata": {
    "collapsed": false
   },
   "source": [
    "# Constraints \n",
    "So far, we have not introduced contraints into MEI optimization. \n",
    "This results in implausible MEIs with high pixel values and high contrast and a forever increasing activation. We need to constrain the overall norm of the MEI and also clip the range of pixel values to the range of pixel values which were in the training data. \n",
    "The norm is then established empirically such, that ideally, value clipping is not necessary."
   ]
  },
  {
   "cell_type": "code",
   "execution_count": null,
   "id": "b5f6177b20a27a2f",
   "metadata": {
    "ExecuteTime": {
     "end_time": "2024-03-07T16:05:42.671870Z",
     "start_time": "2024-03-07T16:05:42.665066Z"
    },
    "collapsed": false
   },
   "outputs": [],
   "source": [
    "p = 2\n",
    "norm_value = 10\n",
    "max_pixel_value = 2.2606\n",
    "min_pixel_value = -1.75047\n",
    "\n",
    "method_config = dict(\n",
    "    initial=dict(path=\"mei.initial.RandomNormal\"),\n",
    "    optimizer=dict(path=\"torch.optim.SGD\", kwargs=dict(lr=lr)),\n",
    "    stopper=dict(path=\"mei.stoppers.NumIterations\", kwargs=dict(num_iterations=num_iterations)),\n",
    "    objectives=[dict(path=\"mei.objectives.EvaluationObjective\", kwargs=dict(interval=interval))],\n",
    "    postprocessing=dict(path=\"mei.postprocessing.PNormConstraintAndClip\", kwargs=dict(p=p, norm_value=norm_value, max_pixel_value=max_pixel_value, min_pixel_value=min_pixel_value)),\n",
    "    device=device,\n",
    ")"
   ]
  },
  {
   "cell_type": "code",
   "execution_count": null,
   "id": "672fc86fa133b0bd",
   "metadata": {
    "ExecuteTime": {
     "end_time": "2024-03-07T16:06:13.763653Z",
     "start_time": "2024-03-07T16:05:43.252737Z"
    },
    "collapsed": false
   },
   "outputs": [],
   "source": [
    "mei, final_evaluation, tracker_log = gradient_ascent(model=single_cell_model, config=method_config, seed=seed,\n",
    "                                                     shape=input_shape)   "
   ]
  },
  {
   "cell_type": "code",
   "execution_count": null,
   "id": "28778da38e6c03ad",
   "metadata": {
    "ExecuteTime": {
     "end_time": "2024-03-07T16:06:13.847668Z",
     "start_time": "2024-03-07T16:06:13.763989Z"
    },
    "collapsed": false
   },
   "outputs": [],
   "source": [
    "print(mei.shape)\n",
    "max_value = torch.max(torch.abs(mei))\n",
    "print(max_value)\n",
    "plt.imshow(mei[0,0], cmap='gray', vmin=min_pixel_value, vmax=max_pixel_value)\n",
    "plt.colorbar()\n",
    "plt.show()\n"
   ]
  },
  {
   "cell_type": "code",
   "execution_count": null,
   "id": "52008e68bb87ea9c",
   "metadata": {
    "ExecuteTime": {
     "end_time": "2024-03-07T16:06:13.918082Z",
     "start_time": "2024-03-07T16:06:13.852678Z"
    },
    "collapsed": false
   },
   "outputs": [],
   "source": [
    "plt.plot(\n",
    "    tracker_log[\"mei.objectives.EvaluationObjective\"][\"times\"],\n",
    "    tracker_log[\"mei.objectives.EvaluationObjective\"][\"values\"],\n",
    ")\n",
    "plt.gca().set_xlabel(\"# iteration\")\n",
    "plt.gca().set_ylabel(\"evaluation\")"
   ]
  }
 ],
 "metadata": {
  "kernelspec": {
   "display_name": "Python 3",
   "language": "python",
   "name": "python3"
  },
  "language_info": {
   "codemirror_mode": {
    "name": "ipython",
    "version": 3
   },
   "file_extension": ".py",
   "mimetype": "text/x-python",
   "name": "python",
   "nbconvert_exporter": "python",
   "pygments_lexer": "ipython3",
   "version": "3.9.18"
  }
 },
 "nbformat": 4,
 "nbformat_minor": 5
}
